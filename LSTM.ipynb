{
  "nbformat": 4,
  "nbformat_minor": 0,
  "metadata": {
    "colab": {
      "provenance": []
    },
    "kernelspec": {
      "name": "python3",
      "display_name": "Python 3"
    },
    "language_info": {
      "name": "python"
    }
  },
  "cells": [
    {
      "cell_type": "code",
      "source": [
        "import pandas as pd\n",
        "import matplotlib.pyplot as plt\n",
        "from statsmodels.tsa.stattools import adfuller #for adf test\n",
        "import scipy.stats as stats #for jb test\n",
        "import numpy as np\n",
        "from sklearn.preprocessing import MinMaxScaler\n",
        "from dataclasses import dataclass\n",
        "from typing import List, Iterator, Dict, Tuple\n",
        "from sklearn.preprocessing import LabelEncoder\n",
        "from tensorflow.keras.utils import to_categorical\n",
        "from tensorflow import keras\n",
        "from tensorflow.keras import layers\n",
        "from sklearn.utils.class_weight import compute_class_weight"
      ],
      "metadata": {
        "id": "FY-vwTTrlhw8"
      },
      "execution_count": 1,
      "outputs": []
    },
    {
      "cell_type": "code",
      "source": [
        "#import and display corn price data\n",
        "daily_corn = pd.read_csv(\"corn_prices_daily.csv\", dtype={\"date\": \"string\"})\n",
        "daily_corn[\"date\"] = pd.to_datetime(daily_corn[\"date\"].str.strip(), format=\"%d/%m/%Y\")\n",
        "daily_corn = daily_corn.sort_values(\"date\").reset_index(drop=True)\n",
        "daily_corn.head()"
      ],
      "metadata": {
        "colab": {
          "base_uri": "https://localhost:8080/",
          "height": 206
        },
        "id": "RFgZNMOCFwlD",
        "outputId": "9c82faf3-7585-4735-f4fc-595a86c219dc"
      },
      "execution_count": 2,
      "outputs": [
        {
          "output_type": "execute_result",
          "data": {
            "text/plain": [
              "        date  Last Price\n",
              "0 1992-01-02        2.41\n",
              "1 1992-01-03        2.39\n",
              "2 1992-01-06        2.40\n",
              "3 1992-01-07        2.40\n",
              "4 1992-01-08        2.43"
            ],
            "text/html": [
              "\n",
              "  <div id=\"df-8d6ff800-b0c0-433a-b730-09a70205104c\" class=\"colab-df-container\">\n",
              "    <div>\n",
              "<style scoped>\n",
              "    .dataframe tbody tr th:only-of-type {\n",
              "        vertical-align: middle;\n",
              "    }\n",
              "\n",
              "    .dataframe tbody tr th {\n",
              "        vertical-align: top;\n",
              "    }\n",
              "\n",
              "    .dataframe thead th {\n",
              "        text-align: right;\n",
              "    }\n",
              "</style>\n",
              "<table border=\"1\" class=\"dataframe\">\n",
              "  <thead>\n",
              "    <tr style=\"text-align: right;\">\n",
              "      <th></th>\n",
              "      <th>date</th>\n",
              "      <th>Last Price</th>\n",
              "    </tr>\n",
              "  </thead>\n",
              "  <tbody>\n",
              "    <tr>\n",
              "      <th>0</th>\n",
              "      <td>1992-01-02</td>\n",
              "      <td>2.41</td>\n",
              "    </tr>\n",
              "    <tr>\n",
              "      <th>1</th>\n",
              "      <td>1992-01-03</td>\n",
              "      <td>2.39</td>\n",
              "    </tr>\n",
              "    <tr>\n",
              "      <th>2</th>\n",
              "      <td>1992-01-06</td>\n",
              "      <td>2.40</td>\n",
              "    </tr>\n",
              "    <tr>\n",
              "      <th>3</th>\n",
              "      <td>1992-01-07</td>\n",
              "      <td>2.40</td>\n",
              "    </tr>\n",
              "    <tr>\n",
              "      <th>4</th>\n",
              "      <td>1992-01-08</td>\n",
              "      <td>2.43</td>\n",
              "    </tr>\n",
              "  </tbody>\n",
              "</table>\n",
              "</div>\n",
              "    <div class=\"colab-df-buttons\">\n",
              "\n",
              "  <div class=\"colab-df-container\">\n",
              "    <button class=\"colab-df-convert\" onclick=\"convertToInteractive('df-8d6ff800-b0c0-433a-b730-09a70205104c')\"\n",
              "            title=\"Convert this dataframe to an interactive table.\"\n",
              "            style=\"display:none;\">\n",
              "\n",
              "  <svg xmlns=\"http://www.w3.org/2000/svg\" height=\"24px\" viewBox=\"0 -960 960 960\">\n",
              "    <path d=\"M120-120v-720h720v720H120Zm60-500h600v-160H180v160Zm220 220h160v-160H400v160Zm0 220h160v-160H400v160ZM180-400h160v-160H180v160Zm440 0h160v-160H620v160ZM180-180h160v-160H180v160Zm440 0h160v-160H620v160Z\"/>\n",
              "  </svg>\n",
              "    </button>\n",
              "\n",
              "  <style>\n",
              "    .colab-df-container {\n",
              "      display:flex;\n",
              "      gap: 12px;\n",
              "    }\n",
              "\n",
              "    .colab-df-convert {\n",
              "      background-color: #E8F0FE;\n",
              "      border: none;\n",
              "      border-radius: 50%;\n",
              "      cursor: pointer;\n",
              "      display: none;\n",
              "      fill: #1967D2;\n",
              "      height: 32px;\n",
              "      padding: 0 0 0 0;\n",
              "      width: 32px;\n",
              "    }\n",
              "\n",
              "    .colab-df-convert:hover {\n",
              "      background-color: #E2EBFA;\n",
              "      box-shadow: 0px 1px 2px rgba(60, 64, 67, 0.3), 0px 1px 3px 1px rgba(60, 64, 67, 0.15);\n",
              "      fill: #174EA6;\n",
              "    }\n",
              "\n",
              "    .colab-df-buttons div {\n",
              "      margin-bottom: 4px;\n",
              "    }\n",
              "\n",
              "    [theme=dark] .colab-df-convert {\n",
              "      background-color: #3B4455;\n",
              "      fill: #D2E3FC;\n",
              "    }\n",
              "\n",
              "    [theme=dark] .colab-df-convert:hover {\n",
              "      background-color: #434B5C;\n",
              "      box-shadow: 0px 1px 3px 1px rgba(0, 0, 0, 0.15);\n",
              "      filter: drop-shadow(0px 1px 2px rgba(0, 0, 0, 0.3));\n",
              "      fill: #FFFFFF;\n",
              "    }\n",
              "  </style>\n",
              "\n",
              "    <script>\n",
              "      const buttonEl =\n",
              "        document.querySelector('#df-8d6ff800-b0c0-433a-b730-09a70205104c button.colab-df-convert');\n",
              "      buttonEl.style.display =\n",
              "        google.colab.kernel.accessAllowed ? 'block' : 'none';\n",
              "\n",
              "      async function convertToInteractive(key) {\n",
              "        const element = document.querySelector('#df-8d6ff800-b0c0-433a-b730-09a70205104c');\n",
              "        const dataTable =\n",
              "          await google.colab.kernel.invokeFunction('convertToInteractive',\n",
              "                                                    [key], {});\n",
              "        if (!dataTable) return;\n",
              "\n",
              "        const docLinkHtml = 'Like what you see? Visit the ' +\n",
              "          '<a target=\"_blank\" href=https://colab.research.google.com/notebooks/data_table.ipynb>data table notebook</a>'\n",
              "          + ' to learn more about interactive tables.';\n",
              "        element.innerHTML = '';\n",
              "        dataTable['output_type'] = 'display_data';\n",
              "        await google.colab.output.renderOutput(dataTable, element);\n",
              "        const docLink = document.createElement('div');\n",
              "        docLink.innerHTML = docLinkHtml;\n",
              "        element.appendChild(docLink);\n",
              "      }\n",
              "    </script>\n",
              "  </div>\n",
              "\n",
              "\n",
              "    <div id=\"df-979d264f-8491-49a5-940c-2bb8a33a35a3\">\n",
              "      <button class=\"colab-df-quickchart\" onclick=\"quickchart('df-979d264f-8491-49a5-940c-2bb8a33a35a3')\"\n",
              "                title=\"Suggest charts\"\n",
              "                style=\"display:none;\">\n",
              "\n",
              "<svg xmlns=\"http://www.w3.org/2000/svg\" height=\"24px\"viewBox=\"0 0 24 24\"\n",
              "     width=\"24px\">\n",
              "    <g>\n",
              "        <path d=\"M19 3H5c-1.1 0-2 .9-2 2v14c0 1.1.9 2 2 2h14c1.1 0 2-.9 2-2V5c0-1.1-.9-2-2-2zM9 17H7v-7h2v7zm4 0h-2V7h2v10zm4 0h-2v-4h2v4z\"/>\n",
              "    </g>\n",
              "</svg>\n",
              "      </button>\n",
              "\n",
              "<style>\n",
              "  .colab-df-quickchart {\n",
              "      --bg-color: #E8F0FE;\n",
              "      --fill-color: #1967D2;\n",
              "      --hover-bg-color: #E2EBFA;\n",
              "      --hover-fill-color: #174EA6;\n",
              "      --disabled-fill-color: #AAA;\n",
              "      --disabled-bg-color: #DDD;\n",
              "  }\n",
              "\n",
              "  [theme=dark] .colab-df-quickchart {\n",
              "      --bg-color: #3B4455;\n",
              "      --fill-color: #D2E3FC;\n",
              "      --hover-bg-color: #434B5C;\n",
              "      --hover-fill-color: #FFFFFF;\n",
              "      --disabled-bg-color: #3B4455;\n",
              "      --disabled-fill-color: #666;\n",
              "  }\n",
              "\n",
              "  .colab-df-quickchart {\n",
              "    background-color: var(--bg-color);\n",
              "    border: none;\n",
              "    border-radius: 50%;\n",
              "    cursor: pointer;\n",
              "    display: none;\n",
              "    fill: var(--fill-color);\n",
              "    height: 32px;\n",
              "    padding: 0;\n",
              "    width: 32px;\n",
              "  }\n",
              "\n",
              "  .colab-df-quickchart:hover {\n",
              "    background-color: var(--hover-bg-color);\n",
              "    box-shadow: 0 1px 2px rgba(60, 64, 67, 0.3), 0 1px 3px 1px rgba(60, 64, 67, 0.15);\n",
              "    fill: var(--button-hover-fill-color);\n",
              "  }\n",
              "\n",
              "  .colab-df-quickchart-complete:disabled,\n",
              "  .colab-df-quickchart-complete:disabled:hover {\n",
              "    background-color: var(--disabled-bg-color);\n",
              "    fill: var(--disabled-fill-color);\n",
              "    box-shadow: none;\n",
              "  }\n",
              "\n",
              "  .colab-df-spinner {\n",
              "    border: 2px solid var(--fill-color);\n",
              "    border-color: transparent;\n",
              "    border-bottom-color: var(--fill-color);\n",
              "    animation:\n",
              "      spin 1s steps(1) infinite;\n",
              "  }\n",
              "\n",
              "  @keyframes spin {\n",
              "    0% {\n",
              "      border-color: transparent;\n",
              "      border-bottom-color: var(--fill-color);\n",
              "      border-left-color: var(--fill-color);\n",
              "    }\n",
              "    20% {\n",
              "      border-color: transparent;\n",
              "      border-left-color: var(--fill-color);\n",
              "      border-top-color: var(--fill-color);\n",
              "    }\n",
              "    30% {\n",
              "      border-color: transparent;\n",
              "      border-left-color: var(--fill-color);\n",
              "      border-top-color: var(--fill-color);\n",
              "      border-right-color: var(--fill-color);\n",
              "    }\n",
              "    40% {\n",
              "      border-color: transparent;\n",
              "      border-right-color: var(--fill-color);\n",
              "      border-top-color: var(--fill-color);\n",
              "    }\n",
              "    60% {\n",
              "      border-color: transparent;\n",
              "      border-right-color: var(--fill-color);\n",
              "    }\n",
              "    80% {\n",
              "      border-color: transparent;\n",
              "      border-right-color: var(--fill-color);\n",
              "      border-bottom-color: var(--fill-color);\n",
              "    }\n",
              "    90% {\n",
              "      border-color: transparent;\n",
              "      border-bottom-color: var(--fill-color);\n",
              "    }\n",
              "  }\n",
              "</style>\n",
              "\n",
              "      <script>\n",
              "        async function quickchart(key) {\n",
              "          const quickchartButtonEl =\n",
              "            document.querySelector('#' + key + ' button');\n",
              "          quickchartButtonEl.disabled = true;  // To prevent multiple clicks.\n",
              "          quickchartButtonEl.classList.add('colab-df-spinner');\n",
              "          try {\n",
              "            const charts = await google.colab.kernel.invokeFunction(\n",
              "                'suggestCharts', [key], {});\n",
              "          } catch (error) {\n",
              "            console.error('Error during call to suggestCharts:', error);\n",
              "          }\n",
              "          quickchartButtonEl.classList.remove('colab-df-spinner');\n",
              "          quickchartButtonEl.classList.add('colab-df-quickchart-complete');\n",
              "        }\n",
              "        (() => {\n",
              "          let quickchartButtonEl =\n",
              "            document.querySelector('#df-979d264f-8491-49a5-940c-2bb8a33a35a3 button');\n",
              "          quickchartButtonEl.style.display =\n",
              "            google.colab.kernel.accessAllowed ? 'block' : 'none';\n",
              "        })();\n",
              "      </script>\n",
              "    </div>\n",
              "\n",
              "    </div>\n",
              "  </div>\n"
            ],
            "application/vnd.google.colaboratory.intrinsic+json": {
              "type": "dataframe",
              "variable_name": "daily_corn",
              "summary": "{\n  \"name\": \"daily_corn\",\n  \"rows\": 8388,\n  \"fields\": [\n    {\n      \"column\": \"date\",\n      \"properties\": {\n        \"dtype\": \"date\",\n        \"min\": \"1992-01-02 00:00:00\",\n        \"max\": \"2025-08-01 00:00:00\",\n        \"num_unique_values\": 8388,\n        \"samples\": [\n          \"2011-08-15 00:00:00\",\n          \"1997-01-07 00:00:00\",\n          \"2007-11-07 00:00:00\"\n        ],\n        \"semantic_type\": \"\",\n        \"description\": \"\"\n      }\n    },\n    {\n      \"column\": \"Last Price\",\n      \"properties\": {\n        \"dtype\": \"number\",\n        \"std\": 1.5800548990292889,\n        \"min\": 1.4,\n        \"max\": 8.44,\n        \"num_unique_values\": 675,\n        \"samples\": [\n          6.03,\n          3.86,\n          5.15\n        ],\n        \"semantic_type\": \"\",\n        \"description\": \"\"\n      }\n    }\n  ]\n}"
            }
          },
          "metadata": {},
          "execution_count": 2
        }
      ]
    },
    {
      "cell_type": "code",
      "source": [
        "#import and display drought probability data\n",
        "weekly_probs_h1 = pd.read_csv(\"h1_probs.csv\", parse_dates=[\"date\"])\n",
        "weekly_probs_h1.head()"
      ],
      "metadata": {
        "colab": {
          "base_uri": "https://localhost:8080/",
          "height": 206
        },
        "id": "xJ4BV6-iFwoT",
        "outputId": "4483cd43-d5fc-40a1-84cc-611cd9483ed4"
      },
      "execution_count": 3,
      "outputs": [
        {
          "output_type": "execute_result",
          "data": {
            "text/plain": [
              "        date  p_state0_h1  p_state1_h1  p_state2_h1  p_state3_h1\n",
              "0 1992-01-05     0.035109     0.909816     0.054839     0.000236\n",
              "1 1992-01-12     0.036271     0.911083     0.052502     0.000144\n",
              "2 1992-01-19     0.033936     0.904253     0.061316     0.000494\n",
              "3 1992-01-26     0.031881     0.865177     0.100857     0.002084\n",
              "4 1992-02-02     0.027861     0.762242     0.203674     0.006222"
            ],
            "text/html": [
              "\n",
              "  <div id=\"df-7856b1b5-7c1a-4b6c-9afe-e5f0ea83adfd\" class=\"colab-df-container\">\n",
              "    <div>\n",
              "<style scoped>\n",
              "    .dataframe tbody tr th:only-of-type {\n",
              "        vertical-align: middle;\n",
              "    }\n",
              "\n",
              "    .dataframe tbody tr th {\n",
              "        vertical-align: top;\n",
              "    }\n",
              "\n",
              "    .dataframe thead th {\n",
              "        text-align: right;\n",
              "    }\n",
              "</style>\n",
              "<table border=\"1\" class=\"dataframe\">\n",
              "  <thead>\n",
              "    <tr style=\"text-align: right;\">\n",
              "      <th></th>\n",
              "      <th>date</th>\n",
              "      <th>p_state0_h1</th>\n",
              "      <th>p_state1_h1</th>\n",
              "      <th>p_state2_h1</th>\n",
              "      <th>p_state3_h1</th>\n",
              "    </tr>\n",
              "  </thead>\n",
              "  <tbody>\n",
              "    <tr>\n",
              "      <th>0</th>\n",
              "      <td>1992-01-05</td>\n",
              "      <td>0.035109</td>\n",
              "      <td>0.909816</td>\n",
              "      <td>0.054839</td>\n",
              "      <td>0.000236</td>\n",
              "    </tr>\n",
              "    <tr>\n",
              "      <th>1</th>\n",
              "      <td>1992-01-12</td>\n",
              "      <td>0.036271</td>\n",
              "      <td>0.911083</td>\n",
              "      <td>0.052502</td>\n",
              "      <td>0.000144</td>\n",
              "    </tr>\n",
              "    <tr>\n",
              "      <th>2</th>\n",
              "      <td>1992-01-19</td>\n",
              "      <td>0.033936</td>\n",
              "      <td>0.904253</td>\n",
              "      <td>0.061316</td>\n",
              "      <td>0.000494</td>\n",
              "    </tr>\n",
              "    <tr>\n",
              "      <th>3</th>\n",
              "      <td>1992-01-26</td>\n",
              "      <td>0.031881</td>\n",
              "      <td>0.865177</td>\n",
              "      <td>0.100857</td>\n",
              "      <td>0.002084</td>\n",
              "    </tr>\n",
              "    <tr>\n",
              "      <th>4</th>\n",
              "      <td>1992-02-02</td>\n",
              "      <td>0.027861</td>\n",
              "      <td>0.762242</td>\n",
              "      <td>0.203674</td>\n",
              "      <td>0.006222</td>\n",
              "    </tr>\n",
              "  </tbody>\n",
              "</table>\n",
              "</div>\n",
              "    <div class=\"colab-df-buttons\">\n",
              "\n",
              "  <div class=\"colab-df-container\">\n",
              "    <button class=\"colab-df-convert\" onclick=\"convertToInteractive('df-7856b1b5-7c1a-4b6c-9afe-e5f0ea83adfd')\"\n",
              "            title=\"Convert this dataframe to an interactive table.\"\n",
              "            style=\"display:none;\">\n",
              "\n",
              "  <svg xmlns=\"http://www.w3.org/2000/svg\" height=\"24px\" viewBox=\"0 -960 960 960\">\n",
              "    <path d=\"M120-120v-720h720v720H120Zm60-500h600v-160H180v160Zm220 220h160v-160H400v160Zm0 220h160v-160H400v160ZM180-400h160v-160H180v160Zm440 0h160v-160H620v160ZM180-180h160v-160H180v160Zm440 0h160v-160H620v160Z\"/>\n",
              "  </svg>\n",
              "    </button>\n",
              "\n",
              "  <style>\n",
              "    .colab-df-container {\n",
              "      display:flex;\n",
              "      gap: 12px;\n",
              "    }\n",
              "\n",
              "    .colab-df-convert {\n",
              "      background-color: #E8F0FE;\n",
              "      border: none;\n",
              "      border-radius: 50%;\n",
              "      cursor: pointer;\n",
              "      display: none;\n",
              "      fill: #1967D2;\n",
              "      height: 32px;\n",
              "      padding: 0 0 0 0;\n",
              "      width: 32px;\n",
              "    }\n",
              "\n",
              "    .colab-df-convert:hover {\n",
              "      background-color: #E2EBFA;\n",
              "      box-shadow: 0px 1px 2px rgba(60, 64, 67, 0.3), 0px 1px 3px 1px rgba(60, 64, 67, 0.15);\n",
              "      fill: #174EA6;\n",
              "    }\n",
              "\n",
              "    .colab-df-buttons div {\n",
              "      margin-bottom: 4px;\n",
              "    }\n",
              "\n",
              "    [theme=dark] .colab-df-convert {\n",
              "      background-color: #3B4455;\n",
              "      fill: #D2E3FC;\n",
              "    }\n",
              "\n",
              "    [theme=dark] .colab-df-convert:hover {\n",
              "      background-color: #434B5C;\n",
              "      box-shadow: 0px 1px 3px 1px rgba(0, 0, 0, 0.15);\n",
              "      filter: drop-shadow(0px 1px 2px rgba(0, 0, 0, 0.3));\n",
              "      fill: #FFFFFF;\n",
              "    }\n",
              "  </style>\n",
              "\n",
              "    <script>\n",
              "      const buttonEl =\n",
              "        document.querySelector('#df-7856b1b5-7c1a-4b6c-9afe-e5f0ea83adfd button.colab-df-convert');\n",
              "      buttonEl.style.display =\n",
              "        google.colab.kernel.accessAllowed ? 'block' : 'none';\n",
              "\n",
              "      async function convertToInteractive(key) {\n",
              "        const element = document.querySelector('#df-7856b1b5-7c1a-4b6c-9afe-e5f0ea83adfd');\n",
              "        const dataTable =\n",
              "          await google.colab.kernel.invokeFunction('convertToInteractive',\n",
              "                                                    [key], {});\n",
              "        if (!dataTable) return;\n",
              "\n",
              "        const docLinkHtml = 'Like what you see? Visit the ' +\n",
              "          '<a target=\"_blank\" href=https://colab.research.google.com/notebooks/data_table.ipynb>data table notebook</a>'\n",
              "          + ' to learn more about interactive tables.';\n",
              "        element.innerHTML = '';\n",
              "        dataTable['output_type'] = 'display_data';\n",
              "        await google.colab.output.renderOutput(dataTable, element);\n",
              "        const docLink = document.createElement('div');\n",
              "        docLink.innerHTML = docLinkHtml;\n",
              "        element.appendChild(docLink);\n",
              "      }\n",
              "    </script>\n",
              "  </div>\n",
              "\n",
              "\n",
              "    <div id=\"df-c27feb1a-9498-49e7-8e55-61d474fe864d\">\n",
              "      <button class=\"colab-df-quickchart\" onclick=\"quickchart('df-c27feb1a-9498-49e7-8e55-61d474fe864d')\"\n",
              "                title=\"Suggest charts\"\n",
              "                style=\"display:none;\">\n",
              "\n",
              "<svg xmlns=\"http://www.w3.org/2000/svg\" height=\"24px\"viewBox=\"0 0 24 24\"\n",
              "     width=\"24px\">\n",
              "    <g>\n",
              "        <path d=\"M19 3H5c-1.1 0-2 .9-2 2v14c0 1.1.9 2 2 2h14c1.1 0 2-.9 2-2V5c0-1.1-.9-2-2-2zM9 17H7v-7h2v7zm4 0h-2V7h2v10zm4 0h-2v-4h2v4z\"/>\n",
              "    </g>\n",
              "</svg>\n",
              "      </button>\n",
              "\n",
              "<style>\n",
              "  .colab-df-quickchart {\n",
              "      --bg-color: #E8F0FE;\n",
              "      --fill-color: #1967D2;\n",
              "      --hover-bg-color: #E2EBFA;\n",
              "      --hover-fill-color: #174EA6;\n",
              "      --disabled-fill-color: #AAA;\n",
              "      --disabled-bg-color: #DDD;\n",
              "  }\n",
              "\n",
              "  [theme=dark] .colab-df-quickchart {\n",
              "      --bg-color: #3B4455;\n",
              "      --fill-color: #D2E3FC;\n",
              "      --hover-bg-color: #434B5C;\n",
              "      --hover-fill-color: #FFFFFF;\n",
              "      --disabled-bg-color: #3B4455;\n",
              "      --disabled-fill-color: #666;\n",
              "  }\n",
              "\n",
              "  .colab-df-quickchart {\n",
              "    background-color: var(--bg-color);\n",
              "    border: none;\n",
              "    border-radius: 50%;\n",
              "    cursor: pointer;\n",
              "    display: none;\n",
              "    fill: var(--fill-color);\n",
              "    height: 32px;\n",
              "    padding: 0;\n",
              "    width: 32px;\n",
              "  }\n",
              "\n",
              "  .colab-df-quickchart:hover {\n",
              "    background-color: var(--hover-bg-color);\n",
              "    box-shadow: 0 1px 2px rgba(60, 64, 67, 0.3), 0 1px 3px 1px rgba(60, 64, 67, 0.15);\n",
              "    fill: var(--button-hover-fill-color);\n",
              "  }\n",
              "\n",
              "  .colab-df-quickchart-complete:disabled,\n",
              "  .colab-df-quickchart-complete:disabled:hover {\n",
              "    background-color: var(--disabled-bg-color);\n",
              "    fill: var(--disabled-fill-color);\n",
              "    box-shadow: none;\n",
              "  }\n",
              "\n",
              "  .colab-df-spinner {\n",
              "    border: 2px solid var(--fill-color);\n",
              "    border-color: transparent;\n",
              "    border-bottom-color: var(--fill-color);\n",
              "    animation:\n",
              "      spin 1s steps(1) infinite;\n",
              "  }\n",
              "\n",
              "  @keyframes spin {\n",
              "    0% {\n",
              "      border-color: transparent;\n",
              "      border-bottom-color: var(--fill-color);\n",
              "      border-left-color: var(--fill-color);\n",
              "    }\n",
              "    20% {\n",
              "      border-color: transparent;\n",
              "      border-left-color: var(--fill-color);\n",
              "      border-top-color: var(--fill-color);\n",
              "    }\n",
              "    30% {\n",
              "      border-color: transparent;\n",
              "      border-left-color: var(--fill-color);\n",
              "      border-top-color: var(--fill-color);\n",
              "      border-right-color: var(--fill-color);\n",
              "    }\n",
              "    40% {\n",
              "      border-color: transparent;\n",
              "      border-right-color: var(--fill-color);\n",
              "      border-top-color: var(--fill-color);\n",
              "    }\n",
              "    60% {\n",
              "      border-color: transparent;\n",
              "      border-right-color: var(--fill-color);\n",
              "    }\n",
              "    80% {\n",
              "      border-color: transparent;\n",
              "      border-right-color: var(--fill-color);\n",
              "      border-bottom-color: var(--fill-color);\n",
              "    }\n",
              "    90% {\n",
              "      border-color: transparent;\n",
              "      border-bottom-color: var(--fill-color);\n",
              "    }\n",
              "  }\n",
              "</style>\n",
              "\n",
              "      <script>\n",
              "        async function quickchart(key) {\n",
              "          const quickchartButtonEl =\n",
              "            document.querySelector('#' + key + ' button');\n",
              "          quickchartButtonEl.disabled = true;  // To prevent multiple clicks.\n",
              "          quickchartButtonEl.classList.add('colab-df-spinner');\n",
              "          try {\n",
              "            const charts = await google.colab.kernel.invokeFunction(\n",
              "                'suggestCharts', [key], {});\n",
              "          } catch (error) {\n",
              "            console.error('Error during call to suggestCharts:', error);\n",
              "          }\n",
              "          quickchartButtonEl.classList.remove('colab-df-spinner');\n",
              "          quickchartButtonEl.classList.add('colab-df-quickchart-complete');\n",
              "        }\n",
              "        (() => {\n",
              "          let quickchartButtonEl =\n",
              "            document.querySelector('#df-c27feb1a-9498-49e7-8e55-61d474fe864d button');\n",
              "          quickchartButtonEl.style.display =\n",
              "            google.colab.kernel.accessAllowed ? 'block' : 'none';\n",
              "        })();\n",
              "      </script>\n",
              "    </div>\n",
              "\n",
              "    </div>\n",
              "  </div>\n"
            ],
            "application/vnd.google.colaboratory.intrinsic+json": {
              "type": "dataframe",
              "variable_name": "weekly_probs_h1",
              "summary": "{\n  \"name\": \"weekly_probs_h1\",\n  \"rows\": 1752,\n  \"fields\": [\n    {\n      \"column\": \"date\",\n      \"properties\": {\n        \"dtype\": \"date\",\n        \"min\": \"1992-01-05 00:00:00\",\n        \"max\": \"2025-07-27 00:00:00\",\n        \"num_unique_values\": 1752,\n        \"samples\": [\n          \"1998-03-08 00:00:00\",\n          \"1999-10-31 00:00:00\",\n          \"1999-10-10 00:00:00\"\n        ],\n        \"semantic_type\": \"\",\n        \"description\": \"\"\n      }\n    },\n    {\n      \"column\": \"p_state0_h1\",\n      \"properties\": {\n        \"dtype\": \"number\",\n        \"std\": 0.3554272648961479,\n        \"min\": 7.304495798100757e-32,\n        \"max\": 0.9585742937477364,\n        \"num_unique_values\": 1752,\n        \"samples\": [\n          0.939350818291573,\n          0.0483146024852328,\n          0.0389977860817542\n        ],\n        \"semantic_type\": \"\",\n        \"description\": \"\"\n      }\n    },\n    {\n      \"column\": \"p_state1_h1\",\n      \"properties\": {\n        \"dtype\": \"number\",\n        \"std\": 0.3839974263131645,\n        \"min\": 5.0138599385343104e-15,\n        \"max\": 0.920878263181829,\n        \"num_unique_values\": 1752,\n        \"samples\": [\n          0.0599083347451518,\n          0.9086623679145016,\n          0.8834436697800301\n        ],\n        \"semantic_type\": \"\",\n        \"description\": \"\"\n      }\n    },\n    {\n      \"column\": \"p_state2_h1\",\n      \"properties\": {\n        \"dtype\": \"number\",\n        \"std\": 0.3798894030099793,\n        \"min\": 2.0076057464056014e-07,\n        \"max\": 0.928269747934888,\n        \"num_unique_values\": 1752,\n        \"samples\": [\n          0.0007408423114782,\n          0.0430003813592854,\n          0.0767175601283533\n        ],\n        \"semantic_type\": \"\",\n        \"description\": \"\"\n      }\n    },\n    {\n      \"column\": \"p_state3_h1\",\n      \"properties\": {\n        \"dtype\": \"number\",\n        \"std\": 0.2566497914840797,\n        \"min\": 7.300721607652694e-19,\n        \"max\": 0.923507774384373,\n        \"num_unique_values\": 1752,\n        \"samples\": [\n          4.651780063812705e-09,\n          2.26482410066822e-05,\n          0.0008409840098085\n        ],\n        \"semantic_type\": \"\",\n        \"description\": \"\"\n      }\n    }\n  ]\n}"
            }
          },
          "metadata": {},
          "execution_count": 3
        }
      ]
    },
    {
      "cell_type": "code",
      "source": [
        "# =========================\n",
        "# merge the two datasets based on dates from weekly drought probabilities, then check for missing\n",
        "# values - if there is a missing values fill by last available date - the furthest back you can go is\n",
        "# 4 days (data on Sunday never available so last date allowed is Wed), shwo in a table how many times you need fallback\n",
        "# =========================\n",
        "# weekly_probs_h1 : DataFrame with Sunday 'date' + state prob columns (e.g., p_state0_h1, ...)\n",
        "# daily_corn      : DataFrame with business-day 'date' + price columns (e.g., 'close', ...)\n",
        "# If your dates are index instead of a column, the helper below lifts them.\n",
        "\n",
        "def ensure_date_col(df: pd.DataFrame, date_col: str = \"date\") -> pd.DataFrame:\n",
        "    out = df.copy()\n",
        "    if date_col not in out.columns and isinstance(out.index, pd.DatetimeIndex):\n",
        "        out = out.reset_index().rename(columns={\"index\": date_col})\n",
        "    out[date_col] = pd.to_datetime(out[date_col])\n",
        "    return out\n",
        "\n",
        "# Normalize inputs\n",
        "wp = ensure_date_col(weekly_probs_h1, \"date\").sort_values(\"date\")\n",
        "dc = ensure_date_col(daily_corn, \"date\").sort_values(\"date\")\n",
        "\n",
        "# (Optional) deduplicate daily prices per date, keep the last record if duplicates exist\n",
        "dc = dc.drop_duplicates(subset=[\"date\"], keep=\"last\")\n",
        "\n",
        "# Identify price columns (everything except 'date')\n",
        "price_cols = [c for c in dc.columns if c != \"date\"]\n",
        "if not price_cols:\n",
        "    raise ValueError(\"No price columns found in daily_corn (expected at least one non-'date' column).\")\n",
        "\n",
        "use_dc = dc[[\"date\"] + price_cols].copy()\n",
        "\n",
        "# =================================\n",
        "# Dataset A: exact Friday (Sun-2d)\n",
        "# =================================\n",
        "A = wp.copy()\n",
        "A[\"date_for_price2\"] = A[\"date\"] - pd.Timedelta(days=2)\n",
        "\n",
        "use_dc2 = use_dc.rename(columns={\"date\": \"date_for_price2\"})\n",
        "A = (\n",
        "    pd.merge(A, use_dc2, on=\"date_for_price2\", how=\"left\")\n",
        "      .sort_values(\"date\")\n",
        "      .reset_index(drop=True)\n",
        ")\n",
        "\n",
        "# IMPORTANT: record whether Friday had price BEFORE any fallback fill\n",
        "A[\"fri_has_price\"] = A[price_cols].notna().any(axis=1)\n",
        "\n",
        "# Save A without helper cols (keep Sunday date + probs + prices)\n",
        "A_out = A.drop(columns=[\"date_for_price2\"])\n",
        "A_out.to_csv(\"joined_sunday_minus2_exact.csv\", index=False)\n",
        "\n",
        "# ======================================================\n",
        "# Dataset B: Friday or last available (≤ Sunday - 4 days)\n",
        "# ======================================================\n",
        "# A, price_cols, wp, use_dc already defined above\n",
        "\n",
        "# As-of join: last available price at/before Sunday, but only within 4 days\n",
        "use_dc_asof = use_dc.copy()\n",
        "use_dc_asof[\"price_date\"] = use_dc_asof[\"date\"]\n",
        "\n",
        "asof_tmp = pd.merge_asof(\n",
        "    wp[[\"date\"]].sort_values(\"date\"),\n",
        "    use_dc_asof.sort_values(\"date\"),\n",
        "    on=\"date\",\n",
        "    direction=\"backward\",\n",
        "    tolerance=pd.Timedelta(days=4)   # <- cap fallback to Sunday-4\n",
        ")\n",
        "\n",
        "# Attach as-of values & fill ONLY where Friday was missing\n",
        "asof_fill = asof_tmp.rename(columns={c: f\"{c}__asof\" for c in price_cols})\n",
        "asof_fill = asof_fill.rename(columns={\"price_date\": \"price_date__asof\"})\n",
        "\n",
        "B = pd.merge(A, asof_fill[[\"date\", \"price_date__asof\"] + [f\"{c}__asof\" for c in price_cols]],\n",
        "             on=\"date\", how=\"left\")\n",
        "\n",
        "for c in price_cols:\n",
        "    # If Friday had price, keep it. Else use as-of (NaN if >4 days away)\n",
        "    B[c] = B[c].where(B[\"fri_has_price\"], B[f\"{c}__asof\"])\n",
        "\n",
        "# Which date did we actually use?\n",
        "B[\"price_date_used\"] = pd.NaT\n",
        "B.loc[B[\"fri_has_price\"],  \"price_date_used\"] = B.loc[B[\"fri_has_price\"],  \"date_for_price2\"]   # Fri (Sun-2)\n",
        "B.loc[~B[\"fri_has_price\"], \"price_date_used\"] = B.loc[~B[\"fri_has_price\"], \"price_date__asof\"]  # as-of (≤4 days)\n",
        "\n",
        "# Fallback days (NaN if no price within ≤4 days)\n",
        "B[\"fallback_days\"] = (B[\"date\"] - B[\"price_date_used\"]).dt.days\n",
        "\n",
        "# Clean & save\n",
        "drop_cols = [f\"{c}__asof\" for c in price_cols] + [\"price_date__asof\", \"date_for_price2\", \"fri_has_price\"]\n",
        "B_out = (B.drop(columns=drop_cols)\n",
        "           .sort_values(\"date\")\n",
        "           .reset_index(drop=True))\n",
        "B_out.to_csv(\"joined_sunday_minus2_or_last_max4d.csv\", index=False)\n",
        "\n",
        "# Quick sanity: any rows beyond 4 days? (should be none due to tolerance)\n",
        "print(\"Rows with fallback_days > 4:\", int((B_out[\"fallback_days\"] > 4).sum()))\n",
        "print(\"Saved:\", \"joined_sunday_minus2_or_last_max4d.csv\")\n",
        "\n",
        "# ==========================\n",
        "# NaN summary & comparisons\n",
        "# ==========================\n",
        "def nan_summary(df: pd.DataFrame, cols: list[str] | None = None) -> pd.DataFrame:\n",
        "    if cols is None:\n",
        "        cols = df.columns.tolist()\n",
        "    nn = df[cols].isna().sum()\n",
        "    pp = (df[cols].isna().mean() * 100).round(2)\n",
        "    return pd.DataFrame({\"n_nan\": nn, \"pct_nan\": pp}).sort_values(\"n_nan\", ascending=False)\n",
        "\n",
        "print(\"NaN summary (ALL columns) — A (exact Fri):\")\n",
        "print(nan_summary(A_out), end=\"\\n\\n\")\n",
        "\n",
        "print(\"NaN summary (ALL columns) — B (fallback):\")\n",
        "print(nan_summary(B_out), end=\"\\n\\n\")\n",
        "\n",
        "# ======================\n",
        "# fallback analysis table\n",
        "# ======================\n",
        "def fallback_counts_table(df: pd.DataFrame, col: str = \"fallback_days\",\n",
        "                          values=(2, 3, 4)) -> pd.DataFrame:\n",
        "    s = pd.to_numeric(df[col], errors=\"coerce\")  # ensure numeric\n",
        "    total_non_na = s.notna().sum()\n",
        "    counts = (s[s.isin(values)]\n",
        "              .value_counts()\n",
        "              .reindex(values, fill_value=0)\n",
        "              .rename(\"count\"))\n",
        "    out = counts.to_frame()\n",
        "    out[\"pct\"] = (out[\"count\"] / total_non_na * 100).round(2)\n",
        "    return out\n",
        "\n",
        "# If your fallback dataset is B_out:\n",
        "table = fallback_counts_table(B_out, \"fallback_days\", values=(2, 3, 4))\n",
        "print(table)"
      ],
      "metadata": {
        "colab": {
          "base_uri": "https://localhost:8080/"
        },
        "id": "MmGaPj6aPI1D",
        "outputId": "3633ef3d-4363-492b-8c14-d47b7f92e930"
      },
      "execution_count": 4,
      "outputs": [
        {
          "output_type": "stream",
          "name": "stdout",
          "text": [
            "Rows with fallback_days > 4: 0\n",
            "Saved: joined_sunday_minus2_or_last_max4d.csv\n",
            "NaN summary (ALL columns) — A (exact Fri):\n",
            "               n_nan  pct_nan\n",
            "Last Price        84     4.79\n",
            "p_state0_h1        0     0.00\n",
            "date               0     0.00\n",
            "p_state1_h1        0     0.00\n",
            "p_state2_h1        0     0.00\n",
            "p_state3_h1        0     0.00\n",
            "fri_has_price      0     0.00\n",
            "\n",
            "NaN summary (ALL columns) — B (fallback):\n",
            "                 n_nan  pct_nan\n",
            "price_date_used      2     0.11\n",
            "fallback_days        2     0.11\n",
            "Last Price           2     0.11\n",
            "date                 0     0.00\n",
            "p_state2_h1          0     0.00\n",
            "p_state1_h1          0     0.00\n",
            "p_state0_h1          0     0.00\n",
            "p_state3_h1          0     0.00\n",
            "\n",
            "               count    pct\n",
            "fallback_days              \n",
            "2               1668  95.31\n",
            "3                 62   3.54\n",
            "4                 20   1.14\n"
          ]
        }
      ]
    },
    {
      "cell_type": "code",
      "source": [
        "## check how long the series is - the end LSTM series should be 2 rows shorter to account for returns (current and future)\n",
        "len(B)"
      ],
      "metadata": {
        "id": "ji5kns0tWl9n",
        "colab": {
          "base_uri": "https://localhost:8080/"
        },
        "outputId": "cc086a14-a64c-46a1-ef50-999d30bf15ba"
      },
      "execution_count": 5,
      "outputs": [
        {
          "output_type": "execute_result",
          "data": {
            "text/plain": [
              "1752"
            ]
          },
          "metadata": {},
          "execution_count": 5
        }
      ]
    },
    {
      "cell_type": "code",
      "source": [
        "#get only data necessary for the modelling\n",
        "# features\n",
        "price_col = \"Last Price\"\n",
        "B[\"ret_1\"] = B[price_col].pct_change()   # past return t-1 -> t\n",
        "# you can add more lags if you want:\n",
        "# for k in [2,4,8]: df[f\"ret_{k}\"] = df[price_col].pct_change(k)\n",
        "cols_to_keep = ['date', 'Last Price', 'ret_1'] + [c for c in B.columns if c.startswith(\"p_state\") and c.endswith(\"_h1\")]\n",
        "data = B[cols_to_keep].copy()\n",
        "print(data)\n",
        "# make sure 'date' column is datetime\n",
        "data['date'] = pd.to_datetime(data['date'])\n",
        "# set as index\n",
        "data = data.set_index('date').sort_index()"
      ],
      "metadata": {
        "colab": {
          "base_uri": "https://localhost:8080/"
        },
        "id": "E1WM1j5kOiq4",
        "outputId": "f5e8ca41-0f61-4a1c-e293-111e9d423702"
      },
      "execution_count": 6,
      "outputs": [
        {
          "output_type": "stream",
          "name": "stdout",
          "text": [
            "           date  Last Price     ret_1  p_state0_h1  p_state1_h1  p_state2_h1  \\\n",
            "0    1992-01-05        2.39       NaN     0.035109     0.909816     0.054839   \n",
            "1    1992-01-12        2.43  0.016736     0.036271     0.911083     0.052502   \n",
            "2    1992-01-19        2.48  0.020576     0.033936     0.904253     0.061316   \n",
            "3    1992-01-26        2.55  0.028226     0.031881     0.865177     0.100857   \n",
            "4    1992-02-02        2.57  0.007843     0.027861     0.762242     0.203674   \n",
            "...         ...         ...       ...          ...          ...          ...   \n",
            "1747 2025-06-29        4.00 -0.014778     0.106205     0.856182     0.037611   \n",
            "1748 2025-07-06        4.10  0.025000     0.169578     0.795629     0.034792   \n",
            "1749 2025-07-13        3.87 -0.056098     0.073787     0.886767     0.039435   \n",
            "1750 2025-07-20        3.95  0.020672     0.040313     0.917628     0.042023   \n",
            "1751 2025-07-27        3.87 -0.020253     0.037403     0.919805     0.042741   \n",
            "\n",
            "      p_state3_h1  \n",
            "0        0.000236  \n",
            "1        0.000144  \n",
            "2        0.000494  \n",
            "3        0.002084  \n",
            "4        0.006222  \n",
            "...           ...  \n",
            "1747     0.000001  \n",
            "1748     0.000001  \n",
            "1749     0.000011  \n",
            "1750     0.000037  \n",
            "1751     0.000051  \n",
            "\n",
            "[1752 rows x 7 columns]\n"
          ]
        },
        {
          "output_type": "stream",
          "name": "stderr",
          "text": [
            "/tmp/ipython-input-2366972377.py:4: FutureWarning: The default fill_method='pad' in Series.pct_change is deprecated and will be removed in a future version. Either fill in any non-leading NA values prior to calling pct_change or specify 'fill_method=None' to not fill NA values.\n",
            "  B[\"ret_1\"] = B[price_col].pct_change()   # past return t-1 -> t\n"
          ]
        }
      ]
    },
    {
      "cell_type": "code",
      "source": [
        "plt.plot(daily_corn['Last Price'])"
      ],
      "metadata": {
        "colab": {
          "base_uri": "https://localhost:8080/",
          "height": 448
        },
        "id": "biAIYXADwGYX",
        "outputId": "c4ffe05c-6f78-4efc-fd30-4160adee683c"
      },
      "execution_count": 7,
      "outputs": [
        {
          "output_type": "execute_result",
          "data": {
            "text/plain": [
              "[<matplotlib.lines.Line2D at 0x78f58ab7fb90>]"
            ]
          },
          "metadata": {},
          "execution_count": 7
        },
        {
          "output_type": "display_data",
          "data": {
            "text/plain": [
              "<Figure size 640x480 with 1 Axes>"
            ],
            "image/png": "[encoded data removed]"
          },
          "metadata": {}
        }
      ]
    },
    {
      "cell_type": "markdown",
      "source": [
        "Prices change a lot so when fitting the minmax scalar for in teh cross validation expanding windows I dont think fitting it on just the first training sample will work. Thus I shall fit it each time for each expanding CV window - not fully comparable across the models but still realistic. One I'vee tuned the parameters I will fit a final scaler on the entire trainval period that will then also be used on the test set.\n"
      ],
      "metadata": {
        "id": "mY0FZtjFEY79"
      }
    },
    {
      "cell_type": "code",
      "source": [
        "#Splitting the data into training, validation and test AND scaling the price data - no transf for the probabilities\n",
        "\n",
        "@dataclass\n",
        "class CVConfig:\n",
        "    val_span: int        # e.g., 26 (weeks)\n",
        "    step: int            # e.g., 4\n",
        "    min_train_span: int  # e.g., 104\n",
        "\n",
        "def make_static_splits(df: pd.DataFrame, test_start: str|pd.Timestamp):\n",
        "    mask_test = df.index >= pd.to_datetime(test_start)\n",
        "    return df.loc[~mask_test].copy(), df.loc[mask_test].copy()\n",
        "\n",
        "def expanding_cv_folds(trainval_df: pd.DataFrame, price_col: str, cfg: CVConfig\n",
        ") -> Iterator[Dict]:\n",
        "    n = len(trainval_df); idx = np.arange(n)\n",
        "    train_end = cfg.min_train_span\n",
        "    while True:\n",
        "        val_end = train_end + cfg.val_span\n",
        "        if val_end > n: break\n",
        "        train_mask = idx < train_end\n",
        "        val_mask   = (idx >= train_end) & (idx < val_end)\n",
        "\n",
        "        # Fit scaler ONLY on price from the current training slice\n",
        "        scaler = MinMaxScaler(feature_range=(-1, 1))\n",
        "        scaler.fit(trainval_df.loc[train_mask, [price_col]].values)\n",
        "\n",
        "        df_tr = trainval_df.loc[train_mask].copy()\n",
        "        df_va = trainval_df.loc[val_mask].copy()\n",
        "\n",
        "        # Transform price; leave probability columns AS-IS\n",
        "        df_tr[price_col] = scaler.transform(df_tr[[price_col]])\n",
        "        df_va[price_col] = scaler.transform(df_va[[price_col]])\n",
        "\n",
        "        yield dict(\n",
        "            train_mask=train_mask, val_mask=val_mask,\n",
        "            df_train_scaled=df_tr, df_val_scaled=df_va,\n",
        "            scaler=scaler,\n",
        "            train_start=df_tr.index.min(), train_end=df_tr.index.max(),\n",
        "            val_start=df_va.index.min(),   val_end=df_va.index.max()\n",
        "        )\n",
        "        train_end += cfg.step\n",
        "\n",
        "def fit_final_scaler_and_transform(trainval_df: pd.DataFrame, price_col: str):\n",
        "    scaler = MinMaxScaler(feature_range=(-1, 1))\n",
        "    scaler.fit(trainval_df[[price_col]].values)     # fit on ALL train+val price\n",
        "    out = trainval_df.copy()\n",
        "    out[price_col] = scaler.transform(out[[price_col]])\n",
        "    return out, scaler\n",
        "\n",
        "def transform_test_with_scaler(test_df: pd.DataFrame, price_col: str, scaler: MinMaxScaler):\n",
        "    out = test_df.copy()\n",
        "    out[price_col] = scaler.transform(out[[price_col]])\n",
        "    return out\n"
      ],
      "metadata": {
        "id": "tcZTBirOE68R"
      },
      "execution_count": 8,
      "outputs": []
    },
    {
      "cell_type": "code",
      "source": [
        "#adf test for stationarity\n",
        "result_adf = adfuller(daily_corn['Last Price'])\n",
        "print('ADF Statistic:', result_adf[0])\n",
        "print('p-value:', result_adf[1])\n",
        "\n",
        "#jb test for normality\n",
        "result_jb = stats.jarque_bera(daily_corn['Last Price'])\n",
        "print('JB Statistic:', result_jb[0])\n",
        "print('p-value:', result_jb[1])"
      ],
      "metadata": {
        "colab": {
          "base_uri": "https://localhost:8080/"
        },
        "id": "GM7cWyGj30Nt",
        "outputId": "312a8a6d-9d78-4bc6-bb64-974f3b87732b"
      },
      "execution_count": 9,
      "outputs": [
        {
          "output_type": "stream",
          "name": "stdout",
          "text": [
            "ADF Statistic: -2.3639412575524474\n",
            "p-value: 0.1521733616090581\n",
            "JB Statistic: 1389.306994878197\n",
            "p-value: 2.0692798436007628e-302\n"
          ]
        }
      ]
    },
    {
      "cell_type": "markdown",
      "source": [
        "The use of LSTM (or in general ML models) makes sense because data is not stationary and not normally distributed."
      ],
      "metadata": {
        "id": "DcBlmcAdEwxS"
      }
    },
    {
      "cell_type": "code",
      "source": [],
      "metadata": {
        "id": "3V-0q9HnOWdW"
      },
      "execution_count": 9,
      "outputs": []
    },
    {
      "cell_type": "markdown",
      "source": [
        "# Creating target price states for Y\n",
        "For the first model version I am implementing a classification model with price predictions: 1)up 2)down 3)neutral.\n",
        "\n",
        "I can construct a pricing strategy for the farmers under these predictions, where they sell more today if the price is said to drop next week, sell less today and more next week if the price is set to increase and sell the same amount today as next week if price is set to remian neutral.\n",
        "\n",
        "I apply neutral with some bandwith."
      ],
      "metadata": {
        "id": "ZCGHa5QGJF4b"
      }
    },
    {
      "cell_type": "code",
      "source": [
        "def make_price_direction_labels(df, price_col=\"Last Price\", horizon=1, neutral_band=0.005):\n",
        "    out = df.copy()\n",
        "    future = out[price_col].shift(-horizon)              # P_{t+h}\n",
        "    ret_fwd = (future / out[price_col]) - 1.0            # (P_{t+h}/P_t) - 1\n",
        "    target = np.zeros(len(out), dtype=int)               # 0 = neutral\n",
        "    target[ret_fwd >  neutral_band] = 1                  # up\n",
        "    target[ret_fwd < -neutral_band] = -1                 # down\n",
        "    out[\"target\"] = target\n",
        "    # drop last horizon rows where future is unknown\n",
        "    return out.iloc[:-horizon].copy()\n"
      ],
      "metadata": {
        "id": "TTXwcEBnJEQf"
      },
      "execution_count": 10,
      "outputs": []
    },
    {
      "cell_type": "code",
      "source": [
        "df_LSTM = make_price_direction_labels(data, price_col=\"Last Price\", horizon=1, neutral_band=0.005)\n",
        "df_LSTM = df_LSTM.dropna(subset=[\"ret_1\"])\n",
        "len(df_LSTM) #should be 2 shorter than the original merged dataset\n"
      ],
      "metadata": {
        "colab": {
          "base_uri": "https://localhost:8080/"
        },
        "id": "4VGeocIDbAjD",
        "outputId": "041e030c-e885-4420-a3a8-ff3db183957f"
      },
      "execution_count": 11,
      "outputs": [
        {
          "output_type": "execute_result",
          "data": {
            "text/plain": [
              "1750"
            ]
          },
          "metadata": {},
          "execution_count": 11
        }
      ]
    },
    {
      "cell_type": "code",
      "source": [
        "#split training-test set\n",
        "def make_static_splits(df: pd.DataFrame, test_start: str|pd.Timestamp):\n",
        "    mask_test = df.index >= pd.to_datetime(test_start) #creates a boolean that shows where the test set is\n",
        "    return df.loc[~mask_test].copy(), df.loc[mask_test].copy()\n",
        "trainval_df, test_df = make_static_splits(df_LSTM, test_start=\"2022-01-01\")"
      ],
      "metadata": {
        "id": "SoUMzxe4m2JA"
      },
      "execution_count": 12,
      "outputs": []
    },
    {
      "cell_type": "code",
      "source": [
        "feature_cols = [\"p_state0_h1\", \"p_state1_h1\",\n",
        "                \"p_state2_h1\", \"p_state3_h1\", \"ret_1\", \"Last Price\"]\n",
        "def make_sequences(df, *, feature_cols, target_col=\"target\", lookback=52):\n",
        "    \"\"\"\n",
        "    Returns:\n",
        "      X: (n_samples, lookback, n_features)\n",
        "      y: (n_samples,)\n",
        "    \"\"\"\n",
        "    X, y = [], []\n",
        "    feature_cols = list(feature_cols)  # ensure list\n",
        "    cols = feature_cols + [target_col]\n",
        "    vals = df[cols].to_numpy()\n",
        "    nfeat = len(feature_cols)\n",
        "    for i in range(len(df) - lookback):\n",
        "        X.append(vals[i:i+lookback, :nfeat])      # 2D: (lookback, n_features)\n",
        "        y.append(vals[i+lookback-1, nfeat])       # scalar class index\n",
        "    X = np.asarray(X)\n",
        "    y = np.asarray(y)\n",
        "    # sanity checks\n",
        "    assert X.ndim == 3, f\"X must be 3D, got {X.shape}\"\n",
        "    assert y.ndim == 1, f\"y must be 1D, got {y.shape}\"\n",
        "    return X, y\n",
        "\n"
      ],
      "metadata": {
        "id": "MfWdUhIyTjXU"
      },
      "execution_count": 13,
      "outputs": []
    },
    {
      "cell_type": "code",
      "source": [
        "def build_lstm_classifier(input_dim: int, units: int = 64, lookback: int = 52):\n",
        "    inputs = keras.Input(shape=(lookback, input_dim))\n",
        "    x = layers.LSTM(units, return_sequences=False)(inputs)\n",
        "    x = layers.Dropout(0.2)(x)\n",
        "    outputs = layers.Dense(3, activation=\"softmax\")(x)\n",
        "    model = keras.Model(inputs, outputs)\n",
        "    model.compile(\n",
        "        optimizer=keras.optimizers.Adam(1e-4),\n",
        "        loss=\"categorical_crossentropy\",\n",
        "        metrics=[\"accuracy\"],\n",
        "    )\n",
        "    return model\n"
      ],
      "metadata": {
        "id": "1obSdta4KSB2"
      },
      "execution_count": 34,
      "outputs": []
    },
    {
      "cell_type": "code",
      "source": [
        "lookback=52"
      ],
      "metadata": {
        "id": "FVuHJLq6QFzR"
      },
      "execution_count": 32,
      "outputs": []
    },
    {
      "cell_type": "code",
      "source": [
        "import matplotlib.pyplot as plt\n",
        "import numpy as np\n",
        "\n",
        "def plot_class_counts(y_tr, y_va, enc, fold_info=\"\"):\n",
        "    # original labels: -1, 0, 1\n",
        "    labels = [-1,0, 1]\n",
        "    names = [str(l) for l in labels]\n",
        "\n",
        "    # counts\n",
        "    counts_tr = [np.sum(y_tr == l) for l in labels]\n",
        "    counts_va = [np.sum(y_va == l) for l in labels]\n",
        "\n",
        "    x = np.arange(len(labels))\n",
        "    width = 0.35\n",
        "\n",
        "    fig, ax = plt.subplots(figsize=(6,4))\n",
        "    ax.bar(x - width/2, counts_tr, width, label=\"Train\")\n",
        "    ax.bar(x + width/2, counts_va, width, label=\"Val\")\n",
        "    ax.set_xticks(x)\n",
        "    ax.set_xticklabels(names)\n",
        "    ax.set_ylabel(\"Count\")\n",
        "    ax.set_title(f\"Class counts per fold {fold_info}\")\n",
        "    ax.legend()\n",
        "    plt.show()\n"
      ],
      "metadata": {
        "id": "8XfxxwkZyQbL"
      },
      "execution_count": 24,
      "outputs": []
    },
    {
      "cell_type": "code",
      "source": [
        "cfg = CVConfig(val_span=100, step=52, min_train_span=520)\n",
        "\n",
        "enc = LabelEncoder().fit([-1,0, 1])  # fixed mapping for all folds\n",
        "\n",
        "val_scores = []\n",
        "for fold in expanding_cv_folds(trainval_df, price_col=price_col, cfg=cfg):\n",
        "    df_tr, df_va = fold[\"df_train_scaled\"], fold[\"df_val_scaled\"]\n",
        "\n",
        "    # ---- Build LSTM-ready arrays with your make_sequences ----\n",
        "    X_tr, y_tr = make_sequences(df_tr, feature_cols=feature_cols, target_col=\"target\", lookback=lookback)\n",
        "    X_va, y_va = make_sequences(df_va, feature_cols=feature_cols, target_col=\"target\", lookback=lookback)\n",
        "    print(\"X_tr\", X_tr.shape, \"X_va\", X_va.shape)   # expect (*, lookback, 6)\n",
        "    print(\"y_tr\", y_tr.shape, \"y_va\", y_va.shape)   # expect (*,), (*,)\n",
        "\n",
        "    # encode labels { -1,0,1 } -> { 0,1,2 } and one-hot for softmax\n",
        "    y_tr_oh = to_categorical(enc.transform(y_tr), num_classes=3)\n",
        "    y_va_oh = to_categorical(enc.transform(y_va), num_classes=3)\n",
        "\n",
        "    # ---- Build & train the LSTM classifier ----\n",
        "    model = build_lstm_classifier(input_dim=X_tr.shape[2], units=64)\n",
        "    plot_class_counts(y_tr, y_va, enc, fold_info=f\"{fold['val_start'].date()}–{fold['val_end'].date()}\")\n",
        "    model.fit(\n",
        "    X_tr, y_tr_oh,\n",
        "    validation_data=(X_va, y_va_oh),\n",
        "    epochs=12, batch_size=32, verbose=0,\n",
        "    shuffle=False,  # IMPORTANT for time series\n",
        "    callbacks=[\n",
        "        keras.callbacks.EarlyStopping(\n",
        "            monitor=\"val_loss\", patience=3, restore_best_weights=True)\n",
        "        ]\n",
        "    )\n",
        "\n",
        "    # ---- Evaluate on validation fold ----\n",
        "    val_loss, val_acc = model.evaluate(X_va, y_va_oh, verbose=0)\n",
        "    val_scores.append(val_acc)\n",
        "    print(f\"{fold['val_start'].date()}–{fold['val_end'].date()} | val_acc={val_acc:.3f}\")\n",
        "\n",
        "print(\"CV mean acc:\", float(np.mean(val_scores)))\n"
      ],
      "metadata": {
        "colab": {
          "base_uri": "https://localhost:8080/",
          "height": 1000
        },
        "id": "kkSIRagzncn6",
        "outputId": "3d26730b-ffc8-427c-81a2-02068abeeb25"
      },
      "execution_count": 35,
      "outputs": [
        {
          "output_type": "stream",
          "name": "stdout",
          "text": [
            "X_tr (468, 52, 6) X_va (48, 52, 6)\n",
            "y_tr (468,) y_va (48,)\n"
          ]
        },
        {
          "output_type": "stream",
          "name": "stderr",
          "text": [
            "/usr/local/lib/python3.12/dist-packages/sklearn/utils/validation.py:2732: UserWarning: X has feature names, but MinMaxScaler was fitted without feature names\n",
            "  warnings.warn(\n",
            "/usr/local/lib/python3.12/dist-packages/sklearn/utils/validation.py:2732: UserWarning: X has feature names, but MinMaxScaler was fitted without feature names\n",
            "  warnings.warn(\n"
          ]
        },
        {
          "output_type": "display_data",
          "data": {
            "text/plain": [
              "<Figure size 600x400 with 1 Axes>"
            ],
            "image/png": "[encoded data removed]"
          },
          "metadata": {}
        },
        {
          "output_type": "stream",
          "name": "stdout",
          "text": [
            "2001-12-30–2003-11-23 | val_acc=0.333\n",
            "X_tr (520, 52, 6) X_va (48, 52, 6)\n",
            "y_tr (520,) y_va (48,)\n"
          ]
        },
        {
          "output_type": "stream",
          "name": "stderr",
          "text": [
            "/usr/local/lib/python3.12/dist-packages/sklearn/utils/validation.py:2732: UserWarning: X has feature names, but MinMaxScaler was fitted without feature names\n",
            "  warnings.warn(\n",
            "/usr/local/lib/python3.12/dist-packages/sklearn/utils/validation.py:2732: UserWarning: X has feature names, but MinMaxScaler was fitted without feature names\n",
            "  warnings.warn(\n"
          ]
        },
        {
          "output_type": "display_data",
          "data": {
            "text/plain": [
              "<Figure size 600x400 with 1 Axes>"
            ],
            "image/png": "[encoded data removed]"
          },
          "metadata": {}
        },
        {
          "output_type": "stream",
          "name": "stdout",
          "text": [
            "2002-12-29–2004-11-21 | val_acc=0.438\n",
            "X_tr (572, 52, 6) X_va (48, 52, 6)\n",
            "y_tr (572,) y_va (48,)\n"
          ]
        },
        {
          "output_type": "stream",
          "name": "stderr",
          "text": [
            "/usr/local/lib/python3.12/dist-packages/sklearn/utils/validation.py:2732: UserWarning: X has feature names, but MinMaxScaler was fitted without feature names\n",
            "  warnings.warn(\n",
            "/usr/local/lib/python3.12/dist-packages/sklearn/utils/validation.py:2732: UserWarning: X has feature names, but MinMaxScaler was fitted without feature names\n",
            "  warnings.warn(\n"
          ]
        },
        {
          "output_type": "display_data",
          "data": {
            "text/plain": [
              "<Figure size 600x400 with 1 Axes>"
            ],
            "image/png": "[encoded data removed]"
          },
          "metadata": {}
        },
        {
          "output_type": "stream",
          "name": "stdout",
          "text": [
            "2003-12-28–2005-11-20 | val_acc=0.500\n",
            "X_tr (624, 52, 6) X_va (48, 52, 6)\n",
            "y_tr (624,) y_va (48,)\n"
          ]
        },
        {
          "output_type": "stream",
          "name": "stderr",
          "text": [
            "/usr/local/lib/python3.12/dist-packages/sklearn/utils/validation.py:2732: UserWarning: X has feature names, but MinMaxScaler was fitted without feature names\n",
            "  warnings.warn(\n",
            "/usr/local/lib/python3.12/dist-packages/sklearn/utils/validation.py:2732: UserWarning: X has feature names, but MinMaxScaler was fitted without feature names\n",
            "  warnings.warn(\n"
          ]
        },
        {
          "output_type": "display_data",
          "data": {
            "text/plain": [
              "<Figure size 600x400 with 1 Axes>"
            ],
            "image/png": "[encoded data removed]"
          },
          "metadata": {}
        },
        {
          "output_type": "stream",
          "name": "stdout",
          "text": [
            "2004-12-26–2006-11-19 | val_acc=0.521\n",
            "X_tr (676, 52, 6) X_va (48, 52, 6)\n",
            "y_tr (676,) y_va (48,)\n"
          ]
        },
        {
          "output_type": "stream",
          "name": "stderr",
          "text": [
            "/usr/local/lib/python3.12/dist-packages/sklearn/utils/validation.py:2732: UserWarning: X has feature names, but MinMaxScaler was fitted without feature names\n",
            "  warnings.warn(\n",
            "/usr/local/lib/python3.12/dist-packages/sklearn/utils/validation.py:2732: UserWarning: X has feature names, but MinMaxScaler was fitted without feature names\n",
            "  warnings.warn(\n"
          ]
        },
        {
          "output_type": "display_data",
          "data": {
            "text/plain": [
              "<Figure size 600x400 with 1 Axes>"
            ],
            "image/png": "[encoded data removed]"
          },
          "metadata": {}
        },
        {
          "output_type": "stream",
          "name": "stdout",
          "text": [
            "2005-12-25–2007-11-18 | val_acc=0.583\n",
            "X_tr (728, 52, 6) X_va (48, 52, 6)\n",
            "y_tr (728,) y_va (48,)\n"
          ]
        },
        {
          "output_type": "stream",
          "name": "stderr",
          "text": [
            "/usr/local/lib/python3.12/dist-packages/sklearn/utils/validation.py:2732: UserWarning: X has feature names, but MinMaxScaler was fitted without feature names\n",
            "  warnings.warn(\n",
            "/usr/local/lib/python3.12/dist-packages/sklearn/utils/validation.py:2732: UserWarning: X has feature names, but MinMaxScaler was fitted without feature names\n",
            "  warnings.warn(\n"
          ]
        },
        {
          "output_type": "display_data",
          "data": {
            "text/plain": [
              "<Figure size 600x400 with 1 Axes>"
            ],
            "image/png": "[encoded data removed]"
          },
          "metadata": {}
        },
        {
          "output_type": "stream",
          "name": "stdout",
          "text": [
            "2006-12-24–2008-11-16 | val_acc=0.479\n",
            "X_tr (780, 52, 6) X_va (48, 52, 6)\n",
            "y_tr (780,) y_va (48,)\n"
          ]
        },
        {
          "output_type": "stream",
          "name": "stderr",
          "text": [
            "/usr/local/lib/python3.12/dist-packages/sklearn/utils/validation.py:2732: UserWarning: X has feature names, but MinMaxScaler was fitted without feature names\n",
            "  warnings.warn(\n",
            "/usr/local/lib/python3.12/dist-packages/sklearn/utils/validation.py:2732: UserWarning: X has feature names, but MinMaxScaler was fitted without feature names\n",
            "  warnings.warn(\n"
          ]
        },
        {
          "output_type": "display_data",
          "data": {
            "text/plain": [
              "<Figure size 600x400 with 1 Axes>"
            ],
            "image/png": "[encoded data removed]"
          },
          "metadata": {}
        },
        {
          "output_type": "stream",
          "name": "stdout",
          "text": [
            "2007-12-23–2009-11-15 | val_acc=0.438\n",
            "X_tr (832, 52, 6) X_va (48, 52, 6)\n",
            "y_tr (832,) y_va (48,)\n"
          ]
        },
        {
          "output_type": "stream",
          "name": "stderr",
          "text": [
            "/usr/local/lib/python3.12/dist-packages/sklearn/utils/validation.py:2732: UserWarning: X has feature names, but MinMaxScaler was fitted without feature names\n",
            "  warnings.warn(\n",
            "/usr/local/lib/python3.12/dist-packages/sklearn/utils/validation.py:2732: UserWarning: X has feature names, but MinMaxScaler was fitted without feature names\n",
            "  warnings.warn(\n"
          ]
        },
        {
          "output_type": "display_data",
          "data": {
            "text/plain": [
              "<Figure size 600x400 with 1 Axes>"
            ],
            "image/png": "[encoded data removed]"
          },
          "metadata": {}
        },
        {
          "output_type": "stream",
          "name": "stdout",
          "text": [
            "2008-12-21–2010-11-14 | val_acc=0.604\n",
            "X_tr (884, 52, 6) X_va (48, 52, 6)\n",
            "y_tr (884,) y_va (48,)\n"
          ]
        },
        {
          "output_type": "stream",
          "name": "stderr",
          "text": [
            "/usr/local/lib/python3.12/dist-packages/sklearn/utils/validation.py:2732: UserWarning: X has feature names, but MinMaxScaler was fitted without feature names\n",
            "  warnings.warn(\n",
            "/usr/local/lib/python3.12/dist-packages/sklearn/utils/validation.py:2732: UserWarning: X has feature names, but MinMaxScaler was fitted without feature names\n",
            "  warnings.warn(\n"
          ]
        },
        {
          "output_type": "display_data",
          "data": {
            "text/plain": [
              "<Figure size 600x400 with 1 Axes>"
            ],
            "image/png": "[encoded data removed]"
          },
          "metadata": {}
        },
        {
          "output_type": "stream",
          "name": "stdout",
          "text": [
            "2009-12-20–2011-11-13 | val_acc=0.458\n",
            "X_tr (936, 52, 6) X_va (48, 52, 6)\n",
            "y_tr (936,) y_va (48,)\n"
          ]
        },
        {
          "output_type": "stream",
          "name": "stderr",
          "text": [
            "/usr/local/lib/python3.12/dist-packages/sklearn/utils/validation.py:2732: UserWarning: X has feature names, but MinMaxScaler was fitted without feature names\n",
            "  warnings.warn(\n",
            "/usr/local/lib/python3.12/dist-packages/sklearn/utils/validation.py:2732: UserWarning: X has feature names, but MinMaxScaler was fitted without feature names\n",
            "  warnings.warn(\n"
          ]
        },
        {
          "output_type": "display_data",
          "data": {
            "text/plain": [
              "<Figure size 600x400 with 1 Axes>"
            ],
            "image/png": "[encoded data removed]"
          },
          "metadata": {}
        },
        {
          "output_type": "stream",
          "name": "stdout",
          "text": [
            "2010-12-19–2012-11-11 | val_acc=0.396\n",
            "X_tr (988, 52, 6) X_va (48, 52, 6)\n",
            "y_tr (988,) y_va (48,)\n"
          ]
        },
        {
          "output_type": "stream",
          "name": "stderr",
          "text": [
            "/usr/local/lib/python3.12/dist-packages/sklearn/utils/validation.py:2732: UserWarning: X has feature names, but MinMaxScaler was fitted without feature names\n",
            "  warnings.warn(\n",
            "/usr/local/lib/python3.12/dist-packages/sklearn/utils/validation.py:2732: UserWarning: X has feature names, but MinMaxScaler was fitted without feature names\n",
            "  warnings.warn(\n"
          ]
        },
        {
          "output_type": "display_data",
          "data": {
            "text/plain": [
              "<Figure size 600x400 with 1 Axes>"
            ],
            "image/png": "[encoded data removed]"
          },
          "metadata": {}
        },
        {
          "output_type": "stream",
          "name": "stdout",
          "text": [
            "2011-12-18–2013-11-10 | val_acc=0.062\n",
            "X_tr (1040, 52, 6) X_va (48, 52, 6)\n",
            "y_tr (1040,) y_va (48,)\n"
          ]
        },
        {
          "output_type": "stream",
          "name": "stderr",
          "text": [
            "/usr/local/lib/python3.12/dist-packages/sklearn/utils/validation.py:2732: UserWarning: X has feature names, but MinMaxScaler was fitted without feature names\n",
            "  warnings.warn(\n",
            "/usr/local/lib/python3.12/dist-packages/sklearn/utils/validation.py:2732: UserWarning: X has feature names, but MinMaxScaler was fitted without feature names\n",
            "  warnings.warn(\n"
          ]
        },
        {
          "output_type": "display_data",
          "data": {
            "text/plain": [
              "<Figure size 600x400 with 1 Axes>"
            ],
            "image/png": "[encoded data removed]"
          },
          "metadata": {}
        },
        {
          "output_type": "stream",
          "name": "stdout",
          "text": [
            "2012-12-16–2014-11-09 | val_acc=0.500\n",
            "X_tr (1092, 52, 6) X_va (48, 52, 6)\n",
            "y_tr (1092,) y_va (48,)\n"
          ]
        },
        {
          "output_type": "stream",
          "name": "stderr",
          "text": [
            "/usr/local/lib/python3.12/dist-packages/sklearn/utils/validation.py:2732: UserWarning: X has feature names, but MinMaxScaler was fitted without feature names\n",
            "  warnings.warn(\n",
            "/usr/local/lib/python3.12/dist-packages/sklearn/utils/validation.py:2732: UserWarning: X has feature names, but MinMaxScaler was fitted without feature names\n",
            "  warnings.warn(\n"
          ]
        },
        {
          "output_type": "display_data",
          "data": {
            "text/plain": [
              "<Figure size 600x400 with 1 Axes>"
            ],
            "image/png": "[encoded data removed]"
          },
          "metadata": {}
        },
        {
          "output_type": "stream",
          "name": "stdout",
          "text": [
            "2013-12-15–2015-11-08 | val_acc=0.479\n",
            "X_tr (1144, 52, 6) X_va (48, 52, 6)\n",
            "y_tr (1144,) y_va (48,)\n"
          ]
        },
        {
          "output_type": "stream",
          "name": "stderr",
          "text": [
            "/usr/local/lib/python3.12/dist-packages/sklearn/utils/validation.py:2732: UserWarning: X has feature names, but MinMaxScaler was fitted without feature names\n",
            "  warnings.warn(\n",
            "/usr/local/lib/python3.12/dist-packages/sklearn/utils/validation.py:2732: UserWarning: X has feature names, but MinMaxScaler was fitted without feature names\n",
            "  warnings.warn(\n"
          ]
        },
        {
          "output_type": "display_data",
          "data": {
            "text/plain": [
              "<Figure size 600x400 with 1 Axes>"
            ],
            "image/png": "[encoded data removed]"
          },
          "metadata": {}
        },
        {
          "output_type": "stream",
          "name": "stdout",
          "text": [
            "2014-12-14–2016-11-06 | val_acc=0.417\n",
            "X_tr (1196, 52, 6) X_va (48, 52, 6)\n",
            "y_tr (1196,) y_va (48,)\n"
          ]
        },
        {
          "output_type": "stream",
          "name": "stderr",
          "text": [
            "/usr/local/lib/python3.12/dist-packages/sklearn/utils/validation.py:2732: UserWarning: X has feature names, but MinMaxScaler was fitted without feature names\n",
            "  warnings.warn(\n",
            "/usr/local/lib/python3.12/dist-packages/sklearn/utils/validation.py:2732: UserWarning: X has feature names, but MinMaxScaler was fitted without feature names\n",
            "  warnings.warn(\n"
          ]
        },
        {
          "output_type": "display_data",
          "data": {
            "text/plain": [
              "<Figure size 600x400 with 1 Axes>"
            ],
            "image/png": "[encoded data removed]"
          },
          "metadata": {}
        },
        {
          "output_type": "stream",
          "name": "stdout",
          "text": [
            "2015-12-13–2017-11-05 | val_acc=0.375\n",
            "X_tr (1248, 52, 6) X_va (48, 52, 6)\n",
            "y_tr (1248,) y_va (48,)\n"
          ]
        },
        {
          "output_type": "stream",
          "name": "stderr",
          "text": [
            "/usr/local/lib/python3.12/dist-packages/sklearn/utils/validation.py:2732: UserWarning: X has feature names, but MinMaxScaler was fitted without feature names\n",
            "  warnings.warn(\n",
            "/usr/local/lib/python3.12/dist-packages/sklearn/utils/validation.py:2732: UserWarning: X has feature names, but MinMaxScaler was fitted without feature names\n",
            "  warnings.warn(\n"
          ]
        },
        {
          "output_type": "display_data",
          "data": {
            "text/plain": [
              "<Figure size 600x400 with 1 Axes>"
            ],
            "image/png": "[encoded data removed]"
          },
          "metadata": {}
        },
        {
          "output_type": "stream",
          "name": "stdout",
          "text": [
            "2016-12-11–2018-11-04 | val_acc=0.354\n",
            "X_tr (1300, 52, 6) X_va (48, 52, 6)\n",
            "y_tr (1300,) y_va (48,)\n"
          ]
        },
        {
          "output_type": "stream",
          "name": "stderr",
          "text": [
            "/usr/local/lib/python3.12/dist-packages/sklearn/utils/validation.py:2732: UserWarning: X has feature names, but MinMaxScaler was fitted without feature names\n",
            "  warnings.warn(\n",
            "/usr/local/lib/python3.12/dist-packages/sklearn/utils/validation.py:2732: UserWarning: X has feature names, but MinMaxScaler was fitted without feature names\n",
            "  warnings.warn(\n"
          ]
        },
        {
          "output_type": "display_data",
          "data": {
            "text/plain": [
              "<Figure size 600x400 with 1 Axes>"
            ],
            "image/png": "[encoded data removed]"
          },
          "metadata": {}
        },
        {
          "output_type": "stream",
          "name": "stdout",
          "text": [
            "2017-12-10–2019-11-03 | val_acc=0.500\n",
            "X_tr (1352, 52, 6) X_va (48, 52, 6)\n",
            "y_tr (1352,) y_va (48,)\n"
          ]
        },
        {
          "output_type": "stream",
          "name": "stderr",
          "text": [
            "/usr/local/lib/python3.12/dist-packages/sklearn/utils/validation.py:2732: UserWarning: X has feature names, but MinMaxScaler was fitted without feature names\n",
            "  warnings.warn(\n",
            "/usr/local/lib/python3.12/dist-packages/sklearn/utils/validation.py:2732: UserWarning: X has feature names, but MinMaxScaler was fitted without feature names\n",
            "  warnings.warn(\n"
          ]
        },
        {
          "output_type": "display_data",
          "data": {
            "text/plain": [
              "<Figure size 600x400 with 1 Axes>"
            ],
            "image/png": "[encoded data removed]"
          },
          "metadata": {}
        },
        {
          "output_type": "stream",
          "name": "stdout",
          "text": [
            "2018-12-09–2020-11-01 | val_acc=0.375\n",
            "X_tr (1404, 52, 6) X_va (48, 52, 6)\n",
            "y_tr (1404,) y_va (48,)\n"
          ]
        },
        {
          "output_type": "stream",
          "name": "stderr",
          "text": [
            "/usr/local/lib/python3.12/dist-packages/sklearn/utils/validation.py:2732: UserWarning: X has feature names, but MinMaxScaler was fitted without feature names\n",
            "  warnings.warn(\n",
            "/usr/local/lib/python3.12/dist-packages/sklearn/utils/validation.py:2732: UserWarning: X has feature names, but MinMaxScaler was fitted without feature names\n",
            "  warnings.warn(\n"
          ]
        },
        {
          "output_type": "display_data",
          "data": {
            "text/plain": [
              "<Figure size 600x400 with 1 Axes>"
            ],
            "image/png": "[encoded data removed]"
          },
          "metadata": {}
        },
        {
          "output_type": "stream",
          "name": "stdout",
          "text": [
            "2019-12-08–2021-10-31 | val_acc=0.396\n",
            "CV mean acc: 0.4320175428139536\n"
          ]
        }
      ]
    },
    {
      "cell_type": "code",
      "source": [
        "# Bridge builder: use last `lookback` TRAIN rows to seed first TEST windows\n",
        "def make_sequences_bridge(df_hist, df_future, feature_cols, target_col, lookback):\n",
        "    tr = df_hist.sort_index().dropna(subset=feature_cols + [target_col])\n",
        "    fv = df_future.sort_index().dropna(subset=feature_cols + [target_col])\n",
        "    if len(tr) < lookback:\n",
        "        raise ValueError(f\"Need at least {lookback} clean rows in df_hist; got {len(tr)}.\")\n",
        "    bridge = pd.concat([tr.tail(lookback), fv], axis=0)\n",
        "\n",
        "    feat = bridge[feature_cols].to_numpy()\n",
        "    X_list, y_list = [], []\n",
        "    # fv index set for membership test\n",
        "    fv_idx = set(fv.index)\n",
        "\n",
        "    for i in range(lookback, len(bridge)):\n",
        "        idx = bridge.index[i]\n",
        "        if idx in fv_idx:  # ensure target comes from FUTURE block only\n",
        "            X_list.append(feat[i - lookback:i, :])\n",
        "            y_list.append(fv.loc[idx, target_col])\n",
        "\n",
        "    X = np.asarray(X_list)\n",
        "    y = np.asarray(y_list)\n",
        "    return X, y\n",
        "\n",
        "# tiny utility to compute class weights on a numeric y in {-1,0,1}\n",
        "def compute_class_weight(y_numeric, enc):\n",
        "    classes, counts = np.unique(y_numeric, return_counts=True)\n",
        "    total = counts.sum()\n",
        "    k = len(classes)\n",
        "    # map original labels {-1,0,1} to {0,1,2}\n",
        "    weights = {}\n",
        "    for c, cnt in zip(classes, counts):\n",
        "        weights[enc.transform([c])[0]] = total / (k * cnt)\n",
        "    return weights\n",
        "\n",
        "# =========================\n",
        "# 1) Hyperparam grid to search in CV\n",
        "#    (trim/extend as you like)\n",
        "# =========================\n",
        "param_grid = [\n",
        "    {\"units\": 32},\n",
        "    {\"units\": 64},\n",
        "    {\"units\": 96},\n",
        "]\n",
        "\n",
        "# =========================\n",
        "# 2) Cross-validate each config on TRAIN+VAL\n",
        "# =========================\n",
        "results = []  # will store dicts with {\"params\":..., \"fold_metrics\":[...], \"mean_acc\":...}\n",
        "\n",
        "for params in param_grid:\n",
        "    units = params[\"units\"]\n",
        "    print(f\"\\n=== CV for params: {params} ===\")\n",
        "    fold_accs = []\n",
        "\n",
        "    for fold in expanding_cv_folds(trainval_df, price_col=price_col, cfg=cfg):\n",
        "        df_tr, df_va = fold[\"df_train_scaled\"], fold[\"df_val_scaled\"]\n",
        "\n",
        "        # Build sequences\n",
        "        X_tr, y_tr = make_sequences(df_tr, feature_cols=feature_cols, target_col=\"target\", lookback=lookback)\n",
        "        X_va, y_va = make_sequences(df_va, feature_cols=feature_cols, target_col=\"target\", lookback=lookback)\n",
        "\n",
        "        # One-hot labels\n",
        "        y_tr_oh = to_categorical(enc.transform(y_tr), num_classes=3)\n",
        "        y_va_oh = to_categorical(enc.transform(y_va), num_classes=3)\n",
        "\n",
        "        # Class weights (optional but helpful if imbalanced)\n",
        "        cw = compute_class_weight(y_tr, enc)\n",
        "\n",
        "        # Build & train\n",
        "        model = build_lstm_classifier(input_dim=X_tr.shape[2], units=units, lookback=lookback)\n",
        "        es = keras.callbacks.EarlyStopping(monitor=\"val_loss\", patience=5, restore_best_weights=True)\n",
        "        hist = model.fit(\n",
        "            X_tr, y_tr_oh,\n",
        "            validation_data=(X_va, y_va_oh),\n",
        "            epochs=40, batch_size=32,\n",
        "            shuffle=False, verbose=0,\n",
        "            class_weight=cw,\n",
        "            callbacks=[es],\n",
        "        )\n",
        "\n",
        "        # Evaluate on validation\n",
        "        _, val_acc = model.evaluate(X_va, y_va_oh, verbose=0)\n",
        "        fold_accs.append(float(val_acc))\n",
        "        print(f\"{fold['val_start'].date()}–{fold['val_end'].date()} | val_acc={val_acc:.3f}\")\n",
        "\n",
        "    results.append({\n",
        "        \"params\": params,\n",
        "        \"fold_metrics\": fold_accs,\n",
        "        \"mean_acc\": float(np.mean(fold_accs))\n",
        "    })\n",
        "\n",
        "# Pick best params by mean CV accuracy\n",
        "results = sorted(results, key=lambda d: d[\"mean_acc\"], reverse=True)\n",
        "best = results[0]\n",
        "print(\"\\n=== BEST by CV ===\")\n",
        "print(\"params:\", best[\"params\"])\n",
        "print(\"mean_acc:\", best[\"mean_acc\"])\n",
        "\n",
        "best_units = best[\"params\"][\"units\"]\n",
        "\n",
        "# =========================\n",
        "# 3) Retrain FINAL model on ALL TRAIN+VAL\n",
        "#    Use a small time-aware tail as internal val for early stopping\n",
        "# =========================\n",
        "# Build sequences on full train+val\n",
        "X_all, y_all = make_sequences(trainval_df, feature_cols=feature_cols, target_col=\"target\", lookback=lookback)\n",
        "\n",
        "# Split a tail slice for early stopping (time-aware: last 10% or fixed N)\n",
        "tail_frac = 0.1\n",
        "n = len(X_all)\n",
        "n_tail = max( max(lookback, 128), int(n * tail_frac) )  # ensure decent tail size\n",
        "n_tail = min(n_tail, n - 1)  # keep at least 1 sample for train\n",
        "\n",
        "X_tr_full, y_tr_full = X_all[:-n_tail], y_all[:-n_tail]\n",
        "X_va_tail, y_va_tail = X_all[-n_tail:], y_all[-n_tail:]\n",
        "\n",
        "y_tr_full_oh = to_categorical(enc.transform(y_tr_full), num_classes=3)\n",
        "y_va_tail_oh = to_categorical(enc.transform(y_va_tail), num_classes=3)\n",
        "\n",
        "cw_final = compute_class_weight(y_tr_full, enc)\n",
        "\n",
        "final_model = build_lstm_classifier(input_dim=X_all.shape[2], units=best_units, lookback=lookback)\n",
        "es = keras.callbacks.EarlyStopping(monitor=\"val_loss\", patience=8, restore_best_weights=True)\n",
        "rlr = keras.callbacks.ReduceLROnPlateau(monitor=\"val_loss\", patience=4, factor=0.5, verbose=0)\n",
        "\n",
        "final_model.fit(\n",
        "    X_tr_full, y_tr_full_oh,\n",
        "    validation_data=(X_va_tail, y_va_tail_oh),\n",
        "    epochs=80, batch_size=32,\n",
        "    shuffle=False, verbose=1,\n",
        "    class_weight=cw_final,\n",
        "    callbacks=[es, rlr],\n",
        ")\n",
        "\n",
        "# =========================\n",
        "# 4) Test on held-out TEST set\n",
        "#    (Build sequences with a BRIDGE from train+val tail)\n",
        "# =========================\n",
        "X_te, y_te = make_sequences_bridge(trainval_df, test_df, feature_cols=feature_cols, target_col=\"target\", lookback=lookback)\n",
        "y_te_oh = to_categorical(enc.transform(y_te), num_classes=3)\n",
        "\n",
        "test_loss, test_acc = final_model.evaluate(X_te, y_te_oh, verbose=0)\n",
        "print(f\"\\nFINAL TEST | loss={test_loss:.4f}, acc={test_acc:.4f}\")\n",
        "\n",
        "# Optional: detailed report\n",
        "y_pred = final_model.predict(X_te, verbose=0).argmax(axis=1)\n",
        "y_true = enc.transform(y_te)\n",
        "from sklearn.metrics import classification_report, confusion_matrix\n",
        "print(\"\\nTEST classification report\\n\", classification_report(y_true, y_pred, target_names=[\"-1\",\"0\",\"1\"], digits=3))\n",
        "print(\"TEST confusion matrix\\n\", confusion_matrix(y_true, y_pred))\n"
      ],
      "metadata": {
        "colab": {
          "base_uri": "https://localhost:8080/"
        },
        "id": "s8v2eYI9lbJF",
        "outputId": "6b0a6d3f-2dd7-43d6-f5ab-5e45b20dcf53"
      },
      "execution_count": 36,
      "outputs": [
        {
          "output_type": "stream",
          "name": "stdout",
          "text": [
            "\n",
            "=== CV for params: {'units': 32} ===\n"
          ]
        },
        {
          "output_type": "stream",
          "name": "stderr",
          "text": [
            "/usr/local/lib/python3.12/dist-packages/sklearn/utils/validation.py:2732: UserWarning: X has feature names, but MinMaxScaler was fitted without feature names\n",
            "  warnings.warn(\n",
            "/usr/local/lib/python3.12/dist-packages/sklearn/utils/validation.py:2732: UserWarning: X has feature names, but MinMaxScaler was fitted without feature names\n",
            "  warnings.warn(\n"
          ]
        },
        {
          "output_type": "stream",
          "name": "stdout",
          "text": [
            "2001-12-30–2003-11-23 | val_acc=0.292\n"
          ]
        },
        {
          "output_type": "stream",
          "name": "stderr",
          "text": [
            "/usr/local/lib/python3.12/dist-packages/sklearn/utils/validation.py:2732: UserWarning: X has feature names, but MinMaxScaler was fitted without feature names\n",
            "  warnings.warn(\n",
            "/usr/local/lib/python3.12/dist-packages/sklearn/utils/validation.py:2732: UserWarning: X has feature names, but MinMaxScaler was fitted without feature names\n",
            "  warnings.warn(\n"
          ]
        },
        {
          "output_type": "stream",
          "name": "stdout",
          "text": [
            "2002-12-29–2004-11-21 | val_acc=0.500\n"
          ]
        },
        {
          "output_type": "stream",
          "name": "stderr",
          "text": [
            "/usr/local/lib/python3.12/dist-packages/sklearn/utils/validation.py:2732: UserWarning: X has feature names, but MinMaxScaler was fitted without feature names\n",
            "  warnings.warn(\n",
            "/usr/local/lib/python3.12/dist-packages/sklearn/utils/validation.py:2732: UserWarning: X has feature names, but MinMaxScaler was fitted without feature names\n",
            "  warnings.warn(\n"
          ]
        },
        {
          "output_type": "stream",
          "name": "stdout",
          "text": [
            "2003-12-28–2005-11-20 | val_acc=0.438\n"
          ]
        },
        {
          "output_type": "stream",
          "name": "stderr",
          "text": [
            "/usr/local/lib/python3.12/dist-packages/sklearn/utils/validation.py:2732: UserWarning: X has feature names, but MinMaxScaler was fitted without feature names\n",
            "  warnings.warn(\n",
            "/usr/local/lib/python3.12/dist-packages/sklearn/utils/validation.py:2732: UserWarning: X has feature names, but MinMaxScaler was fitted without feature names\n",
            "  warnings.warn(\n"
          ]
        },
        {
          "output_type": "stream",
          "name": "stdout",
          "text": [
            "2004-12-26–2006-11-19 | val_acc=0.375\n"
          ]
        },
        {
          "output_type": "stream",
          "name": "stderr",
          "text": [
            "/usr/local/lib/python3.12/dist-packages/sklearn/utils/validation.py:2732: UserWarning: X has feature names, but MinMaxScaler was fitted without feature names\n",
            "  warnings.warn(\n",
            "/usr/local/lib/python3.12/dist-packages/sklearn/utils/validation.py:2732: UserWarning: X has feature names, but MinMaxScaler was fitted without feature names\n",
            "  warnings.warn(\n"
          ]
        },
        {
          "output_type": "stream",
          "name": "stdout",
          "text": [
            "2005-12-25–2007-11-18 | val_acc=0.062\n"
          ]
        },
        {
          "output_type": "stream",
          "name": "stderr",
          "text": [
            "/usr/local/lib/python3.12/dist-packages/sklearn/utils/validation.py:2732: UserWarning: X has feature names, but MinMaxScaler was fitted without feature names\n",
            "  warnings.warn(\n",
            "/usr/local/lib/python3.12/dist-packages/sklearn/utils/validation.py:2732: UserWarning: X has feature names, but MinMaxScaler was fitted without feature names\n",
            "  warnings.warn(\n"
          ]
        },
        {
          "output_type": "stream",
          "name": "stdout",
          "text": [
            "2006-12-24–2008-11-16 | val_acc=0.542\n"
          ]
        },
        {
          "output_type": "stream",
          "name": "stderr",
          "text": [
            "/usr/local/lib/python3.12/dist-packages/sklearn/utils/validation.py:2732: UserWarning: X has feature names, but MinMaxScaler was fitted without feature names\n",
            "  warnings.warn(\n",
            "/usr/local/lib/python3.12/dist-packages/sklearn/utils/validation.py:2732: UserWarning: X has feature names, but MinMaxScaler was fitted without feature names\n",
            "  warnings.warn(\n"
          ]
        },
        {
          "output_type": "stream",
          "name": "stdout",
          "text": [
            "2007-12-23–2009-11-15 | val_acc=0.438\n"
          ]
        },
        {
          "output_type": "stream",
          "name": "stderr",
          "text": [
            "/usr/local/lib/python3.12/dist-packages/sklearn/utils/validation.py:2732: UserWarning: X has feature names, but MinMaxScaler was fitted without feature names\n",
            "  warnings.warn(\n",
            "/usr/local/lib/python3.12/dist-packages/sklearn/utils/validation.py:2732: UserWarning: X has feature names, but MinMaxScaler was fitted without feature names\n",
            "  warnings.warn(\n"
          ]
        },
        {
          "output_type": "stream",
          "name": "stdout",
          "text": [
            "2008-12-21–2010-11-14 | val_acc=0.625\n"
          ]
        },
        {
          "output_type": "stream",
          "name": "stderr",
          "text": [
            "/usr/local/lib/python3.12/dist-packages/sklearn/utils/validation.py:2732: UserWarning: X has feature names, but MinMaxScaler was fitted without feature names\n",
            "  warnings.warn(\n",
            "/usr/local/lib/python3.12/dist-packages/sklearn/utils/validation.py:2732: UserWarning: X has feature names, but MinMaxScaler was fitted without feature names\n",
            "  warnings.warn(\n"
          ]
        },
        {
          "output_type": "stream",
          "name": "stdout",
          "text": [
            "2009-12-20–2011-11-13 | val_acc=0.354\n"
          ]
        },
        {
          "output_type": "stream",
          "name": "stderr",
          "text": [
            "/usr/local/lib/python3.12/dist-packages/sklearn/utils/validation.py:2732: UserWarning: X has feature names, but MinMaxScaler was fitted without feature names\n",
            "  warnings.warn(\n",
            "/usr/local/lib/python3.12/dist-packages/sklearn/utils/validation.py:2732: UserWarning: X has feature names, but MinMaxScaler was fitted without feature names\n",
            "  warnings.warn(\n"
          ]
        },
        {
          "output_type": "stream",
          "name": "stdout",
          "text": [
            "2010-12-19–2012-11-11 | val_acc=0.396\n"
          ]
        },
        {
          "output_type": "stream",
          "name": "stderr",
          "text": [
            "/usr/local/lib/python3.12/dist-packages/sklearn/utils/validation.py:2732: UserWarning: X has feature names, but MinMaxScaler was fitted without feature names\n",
            "  warnings.warn(\n",
            "/usr/local/lib/python3.12/dist-packages/sklearn/utils/validation.py:2732: UserWarning: X has feature names, but MinMaxScaler was fitted without feature names\n",
            "  warnings.warn(\n"
          ]
        },
        {
          "output_type": "stream",
          "name": "stdout",
          "text": [
            "2011-12-18–2013-11-10 | val_acc=0.250\n"
          ]
        },
        {
          "output_type": "stream",
          "name": "stderr",
          "text": [
            "/usr/local/lib/python3.12/dist-packages/sklearn/utils/validation.py:2732: UserWarning: X has feature names, but MinMaxScaler was fitted without feature names\n",
            "  warnings.warn(\n",
            "/usr/local/lib/python3.12/dist-packages/sklearn/utils/validation.py:2732: UserWarning: X has feature names, but MinMaxScaler was fitted without feature names\n",
            "  warnings.warn(\n"
          ]
        },
        {
          "output_type": "stream",
          "name": "stdout",
          "text": [
            "2012-12-16–2014-11-09 | val_acc=0.479\n"
          ]
        },
        {
          "output_type": "stream",
          "name": "stderr",
          "text": [
            "/usr/local/lib/python3.12/dist-packages/sklearn/utils/validation.py:2732: UserWarning: X has feature names, but MinMaxScaler was fitted without feature names\n",
            "  warnings.warn(\n",
            "/usr/local/lib/python3.12/dist-packages/sklearn/utils/validation.py:2732: UserWarning: X has feature names, but MinMaxScaler was fitted without feature names\n",
            "  warnings.warn(\n"
          ]
        },
        {
          "output_type": "stream",
          "name": "stdout",
          "text": [
            "2013-12-15–2015-11-08 | val_acc=0.479\n"
          ]
        },
        {
          "output_type": "stream",
          "name": "stderr",
          "text": [
            "/usr/local/lib/python3.12/dist-packages/sklearn/utils/validation.py:2732: UserWarning: X has feature names, but MinMaxScaler was fitted without feature names\n",
            "  warnings.warn(\n",
            "/usr/local/lib/python3.12/dist-packages/sklearn/utils/validation.py:2732: UserWarning: X has feature names, but MinMaxScaler was fitted without feature names\n",
            "  warnings.warn(\n"
          ]
        },
        {
          "output_type": "stream",
          "name": "stdout",
          "text": [
            "2014-12-14–2016-11-06 | val_acc=0.417\n"
          ]
        },
        {
          "output_type": "stream",
          "name": "stderr",
          "text": [
            "/usr/local/lib/python3.12/dist-packages/sklearn/utils/validation.py:2732: UserWarning: X has feature names, but MinMaxScaler was fitted without feature names\n",
            "  warnings.warn(\n",
            "/usr/local/lib/python3.12/dist-packages/sklearn/utils/validation.py:2732: UserWarning: X has feature names, but MinMaxScaler was fitted without feature names\n",
            "  warnings.warn(\n"
          ]
        },
        {
          "output_type": "stream",
          "name": "stdout",
          "text": [
            "2015-12-13–2017-11-05 | val_acc=0.375\n"
          ]
        },
        {
          "output_type": "stream",
          "name": "stderr",
          "text": [
            "/usr/local/lib/python3.12/dist-packages/sklearn/utils/validation.py:2732: UserWarning: X has feature names, but MinMaxScaler was fitted without feature names\n",
            "  warnings.warn(\n",
            "/usr/local/lib/python3.12/dist-packages/sklearn/utils/validation.py:2732: UserWarning: X has feature names, but MinMaxScaler was fitted without feature names\n",
            "  warnings.warn(\n"
          ]
        },
        {
          "output_type": "stream",
          "name": "stdout",
          "text": [
            "2016-12-11–2018-11-04 | val_acc=0.354\n"
          ]
        },
        {
          "output_type": "stream",
          "name": "stderr",
          "text": [
            "/usr/local/lib/python3.12/dist-packages/sklearn/utils/validation.py:2732: UserWarning: X has feature names, but MinMaxScaler was fitted without feature names\n",
            "  warnings.warn(\n",
            "/usr/local/lib/python3.12/dist-packages/sklearn/utils/validation.py:2732: UserWarning: X has feature names, but MinMaxScaler was fitted without feature names\n",
            "  warnings.warn(\n"
          ]
        },
        {
          "output_type": "stream",
          "name": "stdout",
          "text": [
            "2017-12-10–2019-11-03 | val_acc=0.500\n"
          ]
        },
        {
          "output_type": "stream",
          "name": "stderr",
          "text": [
            "/usr/local/lib/python3.12/dist-packages/sklearn/utils/validation.py:2732: UserWarning: X has feature names, but MinMaxScaler was fitted without feature names\n",
            "  warnings.warn(\n",
            "/usr/local/lib/python3.12/dist-packages/sklearn/utils/validation.py:2732: UserWarning: X has feature names, but MinMaxScaler was fitted without feature names\n",
            "  warnings.warn(\n"
          ]
        },
        {
          "output_type": "stream",
          "name": "stdout",
          "text": [
            "2018-12-09–2020-11-01 | val_acc=0.375\n"
          ]
        },
        {
          "output_type": "stream",
          "name": "stderr",
          "text": [
            "/usr/local/lib/python3.12/dist-packages/sklearn/utils/validation.py:2732: UserWarning: X has feature names, but MinMaxScaler was fitted without feature names\n",
            "  warnings.warn(\n",
            "/usr/local/lib/python3.12/dist-packages/sklearn/utils/validation.py:2732: UserWarning: X has feature names, but MinMaxScaler was fitted without feature names\n",
            "  warnings.warn(\n"
          ]
        },
        {
          "output_type": "stream",
          "name": "stdout",
          "text": [
            "2019-12-08–2021-10-31 | val_acc=0.396\n",
            "\n",
            "=== CV for params: {'units': 64} ===\n"
          ]
        },
        {
          "output_type": "stream",
          "name": "stderr",
          "text": [
            "/usr/local/lib/python3.12/dist-packages/sklearn/utils/validation.py:2732: UserWarning: X has feature names, but MinMaxScaler was fitted without feature names\n",
            "  warnings.warn(\n",
            "/usr/local/lib/python3.12/dist-packages/sklearn/utils/validation.py:2732: UserWarning: X has feature names, but MinMaxScaler was fitted without feature names\n",
            "  warnings.warn(\n"
          ]
        },
        {
          "output_type": "stream",
          "name": "stdout",
          "text": [
            "2001-12-30–2003-11-23 | val_acc=0.417\n"
          ]
        },
        {
          "output_type": "stream",
          "name": "stderr",
          "text": [
            "/usr/local/lib/python3.12/dist-packages/sklearn/utils/validation.py:2732: UserWarning: X has feature names, but MinMaxScaler was fitted without feature names\n",
            "  warnings.warn(\n",
            "/usr/local/lib/python3.12/dist-packages/sklearn/utils/validation.py:2732: UserWarning: X has feature names, but MinMaxScaler was fitted without feature names\n",
            "  warnings.warn(\n"
          ]
        },
        {
          "output_type": "stream",
          "name": "stdout",
          "text": [
            "2002-12-29–2004-11-21 | val_acc=0.333\n"
          ]
        },
        {
          "output_type": "stream",
          "name": "stderr",
          "text": [
            "/usr/local/lib/python3.12/dist-packages/sklearn/utils/validation.py:2732: UserWarning: X has feature names, but MinMaxScaler was fitted without feature names\n",
            "  warnings.warn(\n",
            "/usr/local/lib/python3.12/dist-packages/sklearn/utils/validation.py:2732: UserWarning: X has feature names, but MinMaxScaler was fitted without feature names\n",
            "  warnings.warn(\n"
          ]
        },
        {
          "output_type": "stream",
          "name": "stdout",
          "text": [
            "2003-12-28–2005-11-20 | val_acc=0.500\n"
          ]
        },
        {
          "output_type": "stream",
          "name": "stderr",
          "text": [
            "/usr/local/lib/python3.12/dist-packages/sklearn/utils/validation.py:2732: UserWarning: X has feature names, but MinMaxScaler was fitted without feature names\n",
            "  warnings.warn(\n",
            "/usr/local/lib/python3.12/dist-packages/sklearn/utils/validation.py:2732: UserWarning: X has feature names, but MinMaxScaler was fitted without feature names\n",
            "  warnings.warn(\n"
          ]
        },
        {
          "output_type": "stream",
          "name": "stdout",
          "text": [
            "2004-12-26–2006-11-19 | val_acc=0.229\n"
          ]
        },
        {
          "output_type": "stream",
          "name": "stderr",
          "text": [
            "/usr/local/lib/python3.12/dist-packages/sklearn/utils/validation.py:2732: UserWarning: X has feature names, but MinMaxScaler was fitted without feature names\n",
            "  warnings.warn(\n",
            "/usr/local/lib/python3.12/dist-packages/sklearn/utils/validation.py:2732: UserWarning: X has feature names, but MinMaxScaler was fitted without feature names\n",
            "  warnings.warn(\n"
          ]
        },
        {
          "output_type": "stream",
          "name": "stdout",
          "text": [
            "2005-12-25–2007-11-18 | val_acc=0.417\n"
          ]
        },
        {
          "output_type": "stream",
          "name": "stderr",
          "text": [
            "/usr/local/lib/python3.12/dist-packages/sklearn/utils/validation.py:2732: UserWarning: X has feature names, but MinMaxScaler was fitted without feature names\n",
            "  warnings.warn(\n",
            "/usr/local/lib/python3.12/dist-packages/sklearn/utils/validation.py:2732: UserWarning: X has feature names, but MinMaxScaler was fitted without feature names\n",
            "  warnings.warn(\n"
          ]
        },
        {
          "output_type": "stream",
          "name": "stdout",
          "text": [
            "2006-12-24–2008-11-16 | val_acc=0.625\n"
          ]
        },
        {
          "output_type": "stream",
          "name": "stderr",
          "text": [
            "/usr/local/lib/python3.12/dist-packages/sklearn/utils/validation.py:2732: UserWarning: X has feature names, but MinMaxScaler was fitted without feature names\n",
            "  warnings.warn(\n",
            "/usr/local/lib/python3.12/dist-packages/sklearn/utils/validation.py:2732: UserWarning: X has feature names, but MinMaxScaler was fitted without feature names\n",
            "  warnings.warn(\n"
          ]
        },
        {
          "output_type": "stream",
          "name": "stdout",
          "text": [
            "2007-12-23–2009-11-15 | val_acc=0.417\n"
          ]
        },
        {
          "output_type": "stream",
          "name": "stderr",
          "text": [
            "/usr/local/lib/python3.12/dist-packages/sklearn/utils/validation.py:2732: UserWarning: X has feature names, but MinMaxScaler was fitted without feature names\n",
            "  warnings.warn(\n",
            "/usr/local/lib/python3.12/dist-packages/sklearn/utils/validation.py:2732: UserWarning: X has feature names, but MinMaxScaler was fitted without feature names\n",
            "  warnings.warn(\n"
          ]
        },
        {
          "output_type": "stream",
          "name": "stdout",
          "text": [
            "2008-12-21–2010-11-14 | val_acc=0.625\n"
          ]
        },
        {
          "output_type": "stream",
          "name": "stderr",
          "text": [
            "/usr/local/lib/python3.12/dist-packages/sklearn/utils/validation.py:2732: UserWarning: X has feature names, but MinMaxScaler was fitted without feature names\n",
            "  warnings.warn(\n",
            "/usr/local/lib/python3.12/dist-packages/sklearn/utils/validation.py:2732: UserWarning: X has feature names, but MinMaxScaler was fitted without feature names\n",
            "  warnings.warn(\n"
          ]
        },
        {
          "output_type": "stream",
          "name": "stdout",
          "text": [
            "2009-12-20–2011-11-13 | val_acc=0.375\n"
          ]
        },
        {
          "output_type": "stream",
          "name": "stderr",
          "text": [
            "/usr/local/lib/python3.12/dist-packages/sklearn/utils/validation.py:2732: UserWarning: X has feature names, but MinMaxScaler was fitted without feature names\n",
            "  warnings.warn(\n",
            "/usr/local/lib/python3.12/dist-packages/sklearn/utils/validation.py:2732: UserWarning: X has feature names, but MinMaxScaler was fitted without feature names\n",
            "  warnings.warn(\n"
          ]
        },
        {
          "output_type": "stream",
          "name": "stdout",
          "text": [
            "2010-12-19–2012-11-11 | val_acc=0.375\n"
          ]
        },
        {
          "output_type": "stream",
          "name": "stderr",
          "text": [
            "/usr/local/lib/python3.12/dist-packages/sklearn/utils/validation.py:2732: UserWarning: X has feature names, but MinMaxScaler was fitted without feature names\n",
            "  warnings.warn(\n",
            "/usr/local/lib/python3.12/dist-packages/sklearn/utils/validation.py:2732: UserWarning: X has feature names, but MinMaxScaler was fitted without feature names\n",
            "  warnings.warn(\n"
          ]
        },
        {
          "output_type": "stream",
          "name": "stdout",
          "text": [
            "2011-12-18–2013-11-10 | val_acc=0.062\n"
          ]
        },
        {
          "output_type": "stream",
          "name": "stderr",
          "text": [
            "/usr/local/lib/python3.12/dist-packages/sklearn/utils/validation.py:2732: UserWarning: X has feature names, but MinMaxScaler was fitted without feature names\n",
            "  warnings.warn(\n",
            "/usr/local/lib/python3.12/dist-packages/sklearn/utils/validation.py:2732: UserWarning: X has feature names, but MinMaxScaler was fitted without feature names\n",
            "  warnings.warn(\n"
          ]
        },
        {
          "output_type": "stream",
          "name": "stdout",
          "text": [
            "2012-12-16–2014-11-09 | val_acc=0.479\n"
          ]
        },
        {
          "output_type": "stream",
          "name": "stderr",
          "text": [
            "/usr/local/lib/python3.12/dist-packages/sklearn/utils/validation.py:2732: UserWarning: X has feature names, but MinMaxScaler was fitted without feature names\n",
            "  warnings.warn(\n",
            "/usr/local/lib/python3.12/dist-packages/sklearn/utils/validation.py:2732: UserWarning: X has feature names, but MinMaxScaler was fitted without feature names\n",
            "  warnings.warn(\n"
          ]
        },
        {
          "output_type": "stream",
          "name": "stdout",
          "text": [
            "2013-12-15–2015-11-08 | val_acc=0.479\n"
          ]
        },
        {
          "output_type": "stream",
          "name": "stderr",
          "text": [
            "/usr/local/lib/python3.12/dist-packages/sklearn/utils/validation.py:2732: UserWarning: X has feature names, but MinMaxScaler was fitted without feature names\n",
            "  warnings.warn(\n",
            "/usr/local/lib/python3.12/dist-packages/sklearn/utils/validation.py:2732: UserWarning: X has feature names, but MinMaxScaler was fitted without feature names\n",
            "  warnings.warn(\n"
          ]
        },
        {
          "output_type": "stream",
          "name": "stdout",
          "text": [
            "2014-12-14–2016-11-06 | val_acc=0.417\n"
          ]
        },
        {
          "output_type": "stream",
          "name": "stderr",
          "text": [
            "/usr/local/lib/python3.12/dist-packages/sklearn/utils/validation.py:2732: UserWarning: X has feature names, but MinMaxScaler was fitted without feature names\n",
            "  warnings.warn(\n",
            "/usr/local/lib/python3.12/dist-packages/sklearn/utils/validation.py:2732: UserWarning: X has feature names, but MinMaxScaler was fitted without feature names\n",
            "  warnings.warn(\n"
          ]
        },
        {
          "output_type": "stream",
          "name": "stdout",
          "text": [
            "2015-12-13–2017-11-05 | val_acc=0.375\n"
          ]
        },
        {
          "output_type": "stream",
          "name": "stderr",
          "text": [
            "/usr/local/lib/python3.12/dist-packages/sklearn/utils/validation.py:2732: UserWarning: X has feature names, but MinMaxScaler was fitted without feature names\n",
            "  warnings.warn(\n",
            "/usr/local/lib/python3.12/dist-packages/sklearn/utils/validation.py:2732: UserWarning: X has feature names, but MinMaxScaler was fitted without feature names\n",
            "  warnings.warn(\n"
          ]
        },
        {
          "output_type": "stream",
          "name": "stdout",
          "text": [
            "2016-12-11–2018-11-04 | val_acc=0.354\n"
          ]
        },
        {
          "output_type": "stream",
          "name": "stderr",
          "text": [
            "/usr/local/lib/python3.12/dist-packages/sklearn/utils/validation.py:2732: UserWarning: X has feature names, but MinMaxScaler was fitted without feature names\n",
            "  warnings.warn(\n",
            "/usr/local/lib/python3.12/dist-packages/sklearn/utils/validation.py:2732: UserWarning: X has feature names, but MinMaxScaler was fitted without feature names\n",
            "  warnings.warn(\n"
          ]
        },
        {
          "output_type": "stream",
          "name": "stdout",
          "text": [
            "2017-12-10–2019-11-03 | val_acc=0.500\n"
          ]
        },
        {
          "output_type": "stream",
          "name": "stderr",
          "text": [
            "/usr/local/lib/python3.12/dist-packages/sklearn/utils/validation.py:2732: UserWarning: X has feature names, but MinMaxScaler was fitted without feature names\n",
            "  warnings.warn(\n",
            "/usr/local/lib/python3.12/dist-packages/sklearn/utils/validation.py:2732: UserWarning: X has feature names, but MinMaxScaler was fitted without feature names\n",
            "  warnings.warn(\n"
          ]
        },
        {
          "output_type": "stream",
          "name": "stdout",
          "text": [
            "2018-12-09–2020-11-01 | val_acc=0.375\n"
          ]
        },
        {
          "output_type": "stream",
          "name": "stderr",
          "text": [
            "/usr/local/lib/python3.12/dist-packages/sklearn/utils/validation.py:2732: UserWarning: X has feature names, but MinMaxScaler was fitted without feature names\n",
            "  warnings.warn(\n",
            "/usr/local/lib/python3.12/dist-packages/sklearn/utils/validation.py:2732: UserWarning: X has feature names, but MinMaxScaler was fitted without feature names\n",
            "  warnings.warn(\n"
          ]
        },
        {
          "output_type": "stream",
          "name": "stdout",
          "text": [
            "2019-12-08–2021-10-31 | val_acc=0.396\n",
            "\n",
            "=== CV for params: {'units': 96} ===\n"
          ]
        },
        {
          "output_type": "stream",
          "name": "stderr",
          "text": [
            "/usr/local/lib/python3.12/dist-packages/sklearn/utils/validation.py:2732: UserWarning: X has feature names, but MinMaxScaler was fitted without feature names\n",
            "  warnings.warn(\n",
            "/usr/local/lib/python3.12/dist-packages/sklearn/utils/validation.py:2732: UserWarning: X has feature names, but MinMaxScaler was fitted without feature names\n",
            "  warnings.warn(\n"
          ]
        },
        {
          "output_type": "stream",
          "name": "stdout",
          "text": [
            "2001-12-30–2003-11-23 | val_acc=0.417\n"
          ]
        },
        {
          "output_type": "stream",
          "name": "stderr",
          "text": [
            "/usr/local/lib/python3.12/dist-packages/sklearn/utils/validation.py:2732: UserWarning: X has feature names, but MinMaxScaler was fitted without feature names\n",
            "  warnings.warn(\n",
            "/usr/local/lib/python3.12/dist-packages/sklearn/utils/validation.py:2732: UserWarning: X has feature names, but MinMaxScaler was fitted without feature names\n",
            "  warnings.warn(\n"
          ]
        },
        {
          "output_type": "stream",
          "name": "stdout",
          "text": [
            "2002-12-29–2004-11-21 | val_acc=0.062\n"
          ]
        },
        {
          "output_type": "stream",
          "name": "stderr",
          "text": [
            "/usr/local/lib/python3.12/dist-packages/sklearn/utils/validation.py:2732: UserWarning: X has feature names, but MinMaxScaler was fitted without feature names\n",
            "  warnings.warn(\n",
            "/usr/local/lib/python3.12/dist-packages/sklearn/utils/validation.py:2732: UserWarning: X has feature names, but MinMaxScaler was fitted without feature names\n",
            "  warnings.warn(\n"
          ]
        },
        {
          "output_type": "stream",
          "name": "stdout",
          "text": [
            "2003-12-28–2005-11-20 | val_acc=0.479\n"
          ]
        },
        {
          "output_type": "stream",
          "name": "stderr",
          "text": [
            "/usr/local/lib/python3.12/dist-packages/sklearn/utils/validation.py:2732: UserWarning: X has feature names, but MinMaxScaler was fitted without feature names\n",
            "  warnings.warn(\n",
            "/usr/local/lib/python3.12/dist-packages/sklearn/utils/validation.py:2732: UserWarning: X has feature names, but MinMaxScaler was fitted without feature names\n",
            "  warnings.warn(\n"
          ]
        },
        {
          "output_type": "stream",
          "name": "stdout",
          "text": [
            "2004-12-26–2006-11-19 | val_acc=0.438\n"
          ]
        },
        {
          "output_type": "stream",
          "name": "stderr",
          "text": [
            "/usr/local/lib/python3.12/dist-packages/sklearn/utils/validation.py:2732: UserWarning: X has feature names, but MinMaxScaler was fitted without feature names\n",
            "  warnings.warn(\n",
            "/usr/local/lib/python3.12/dist-packages/sklearn/utils/validation.py:2732: UserWarning: X has feature names, but MinMaxScaler was fitted without feature names\n",
            "  warnings.warn(\n"
          ]
        },
        {
          "output_type": "stream",
          "name": "stdout",
          "text": [
            "2005-12-25–2007-11-18 | val_acc=0.208\n"
          ]
        },
        {
          "output_type": "stream",
          "name": "stderr",
          "text": [
            "/usr/local/lib/python3.12/dist-packages/sklearn/utils/validation.py:2732: UserWarning: X has feature names, but MinMaxScaler was fitted without feature names\n",
            "  warnings.warn(\n",
            "/usr/local/lib/python3.12/dist-packages/sklearn/utils/validation.py:2732: UserWarning: X has feature names, but MinMaxScaler was fitted without feature names\n",
            "  warnings.warn(\n"
          ]
        },
        {
          "output_type": "stream",
          "name": "stdout",
          "text": [
            "2006-12-24–2008-11-16 | val_acc=0.333\n"
          ]
        },
        {
          "output_type": "stream",
          "name": "stderr",
          "text": [
            "/usr/local/lib/python3.12/dist-packages/sklearn/utils/validation.py:2732: UserWarning: X has feature names, but MinMaxScaler was fitted without feature names\n",
            "  warnings.warn(\n",
            "/usr/local/lib/python3.12/dist-packages/sklearn/utils/validation.py:2732: UserWarning: X has feature names, but MinMaxScaler was fitted without feature names\n",
            "  warnings.warn(\n"
          ]
        },
        {
          "output_type": "stream",
          "name": "stdout",
          "text": [
            "2007-12-23–2009-11-15 | val_acc=0.479\n"
          ]
        },
        {
          "output_type": "stream",
          "name": "stderr",
          "text": [
            "/usr/local/lib/python3.12/dist-packages/sklearn/utils/validation.py:2732: UserWarning: X has feature names, but MinMaxScaler was fitted without feature names\n",
            "  warnings.warn(\n",
            "/usr/local/lib/python3.12/dist-packages/sklearn/utils/validation.py:2732: UserWarning: X has feature names, but MinMaxScaler was fitted without feature names\n",
            "  warnings.warn(\n"
          ]
        },
        {
          "output_type": "stream",
          "name": "stdout",
          "text": [
            "2008-12-21–2010-11-14 | val_acc=0.646\n"
          ]
        },
        {
          "output_type": "stream",
          "name": "stderr",
          "text": [
            "/usr/local/lib/python3.12/dist-packages/sklearn/utils/validation.py:2732: UserWarning: X has feature names, but MinMaxScaler was fitted without feature names\n",
            "  warnings.warn(\n",
            "/usr/local/lib/python3.12/dist-packages/sklearn/utils/validation.py:2732: UserWarning: X has feature names, but MinMaxScaler was fitted without feature names\n",
            "  warnings.warn(\n"
          ]
        },
        {
          "output_type": "stream",
          "name": "stdout",
          "text": [
            "2009-12-20–2011-11-13 | val_acc=0.458\n"
          ]
        },
        {
          "output_type": "stream",
          "name": "stderr",
          "text": [
            "/usr/local/lib/python3.12/dist-packages/sklearn/utils/validation.py:2732: UserWarning: X has feature names, but MinMaxScaler was fitted without feature names\n",
            "  warnings.warn(\n",
            "/usr/local/lib/python3.12/dist-packages/sklearn/utils/validation.py:2732: UserWarning: X has feature names, but MinMaxScaler was fitted without feature names\n",
            "  warnings.warn(\n"
          ]
        },
        {
          "output_type": "stream",
          "name": "stdout",
          "text": [
            "2010-12-19–2012-11-11 | val_acc=0.375\n"
          ]
        },
        {
          "output_type": "stream",
          "name": "stderr",
          "text": [
            "/usr/local/lib/python3.12/dist-packages/sklearn/utils/validation.py:2732: UserWarning: X has feature names, but MinMaxScaler was fitted without feature names\n",
            "  warnings.warn(\n",
            "/usr/local/lib/python3.12/dist-packages/sklearn/utils/validation.py:2732: UserWarning: X has feature names, but MinMaxScaler was fitted without feature names\n",
            "  warnings.warn(\n"
          ]
        },
        {
          "output_type": "stream",
          "name": "stdout",
          "text": [
            "2011-12-18–2013-11-10 | val_acc=0.062\n"
          ]
        },
        {
          "output_type": "stream",
          "name": "stderr",
          "text": [
            "/usr/local/lib/python3.12/dist-packages/sklearn/utils/validation.py:2732: UserWarning: X has feature names, but MinMaxScaler was fitted without feature names\n",
            "  warnings.warn(\n",
            "/usr/local/lib/python3.12/dist-packages/sklearn/utils/validation.py:2732: UserWarning: X has feature names, but MinMaxScaler was fitted without feature names\n",
            "  warnings.warn(\n"
          ]
        },
        {
          "output_type": "stream",
          "name": "stdout",
          "text": [
            "2012-12-16–2014-11-09 | val_acc=0.479\n"
          ]
        },
        {
          "output_type": "stream",
          "name": "stderr",
          "text": [
            "/usr/local/lib/python3.12/dist-packages/sklearn/utils/validation.py:2732: UserWarning: X has feature names, but MinMaxScaler was fitted without feature names\n",
            "  warnings.warn(\n",
            "/usr/local/lib/python3.12/dist-packages/sklearn/utils/validation.py:2732: UserWarning: X has feature names, but MinMaxScaler was fitted without feature names\n",
            "  warnings.warn(\n"
          ]
        },
        {
          "output_type": "stream",
          "name": "stdout",
          "text": [
            "2013-12-15–2015-11-08 | val_acc=0.479\n"
          ]
        },
        {
          "output_type": "stream",
          "name": "stderr",
          "text": [
            "/usr/local/lib/python3.12/dist-packages/sklearn/utils/validation.py:2732: UserWarning: X has feature names, but MinMaxScaler was fitted without feature names\n",
            "  warnings.warn(\n",
            "/usr/local/lib/python3.12/dist-packages/sklearn/utils/validation.py:2732: UserWarning: X has feature names, but MinMaxScaler was fitted without feature names\n",
            "  warnings.warn(\n"
          ]
        },
        {
          "output_type": "stream",
          "name": "stdout",
          "text": [
            "2014-12-14–2016-11-06 | val_acc=0.417\n"
          ]
        },
        {
          "output_type": "stream",
          "name": "stderr",
          "text": [
            "/usr/local/lib/python3.12/dist-packages/sklearn/utils/validation.py:2732: UserWarning: X has feature names, but MinMaxScaler was fitted without feature names\n",
            "  warnings.warn(\n",
            "/usr/local/lib/python3.12/dist-packages/sklearn/utils/validation.py:2732: UserWarning: X has feature names, but MinMaxScaler was fitted without feature names\n",
            "  warnings.warn(\n"
          ]
        },
        {
          "output_type": "stream",
          "name": "stdout",
          "text": [
            "2015-12-13–2017-11-05 | val_acc=0.375\n"
          ]
        },
        {
          "output_type": "stream",
          "name": "stderr",
          "text": [
            "/usr/local/lib/python3.12/dist-packages/sklearn/utils/validation.py:2732: UserWarning: X has feature names, but MinMaxScaler was fitted without feature names\n",
            "  warnings.warn(\n",
            "/usr/local/lib/python3.12/dist-packages/sklearn/utils/validation.py:2732: UserWarning: X has feature names, but MinMaxScaler was fitted without feature names\n",
            "  warnings.warn(\n"
          ]
        },
        {
          "output_type": "stream",
          "name": "stdout",
          "text": [
            "2016-12-11–2018-11-04 | val_acc=0.354\n"
          ]
        },
        {
          "output_type": "stream",
          "name": "stderr",
          "text": [
            "/usr/local/lib/python3.12/dist-packages/sklearn/utils/validation.py:2732: UserWarning: X has feature names, but MinMaxScaler was fitted without feature names\n",
            "  warnings.warn(\n",
            "/usr/local/lib/python3.12/dist-packages/sklearn/utils/validation.py:2732: UserWarning: X has feature names, but MinMaxScaler was fitted without feature names\n",
            "  warnings.warn(\n"
          ]
        },
        {
          "output_type": "stream",
          "name": "stdout",
          "text": [
            "2017-12-10–2019-11-03 | val_acc=0.500\n"
          ]
        },
        {
          "output_type": "stream",
          "name": "stderr",
          "text": [
            "/usr/local/lib/python3.12/dist-packages/sklearn/utils/validation.py:2732: UserWarning: X has feature names, but MinMaxScaler was fitted without feature names\n",
            "  warnings.warn(\n",
            "/usr/local/lib/python3.12/dist-packages/sklearn/utils/validation.py:2732: UserWarning: X has feature names, but MinMaxScaler was fitted without feature names\n",
            "  warnings.warn(\n"
          ]
        },
        {
          "output_type": "stream",
          "name": "stdout",
          "text": [
            "2018-12-09–2020-11-01 | val_acc=0.375\n"
          ]
        },
        {
          "output_type": "stream",
          "name": "stderr",
          "text": [
            "/usr/local/lib/python3.12/dist-packages/sklearn/utils/validation.py:2732: UserWarning: X has feature names, but MinMaxScaler was fitted without feature names\n",
            "  warnings.warn(\n",
            "/usr/local/lib/python3.12/dist-packages/sklearn/utils/validation.py:2732: UserWarning: X has feature names, but MinMaxScaler was fitted without feature names\n",
            "  warnings.warn(\n"
          ]
        },
        {
          "output_type": "stream",
          "name": "stdout",
          "text": [
            "2019-12-08–2021-10-31 | val_acc=0.396\n",
            "\n",
            "=== BEST by CV ===\n",
            "params: {'units': 64}\n",
            "mean_acc: 0.4078947344892903\n",
            "Epoch 1/80\n",
            "\u001b[1m43/43\u001b[0m \u001b[32m━━━━━━━━━━━━━━━━━━━━\u001b[0m\u001b[37m\u001b[0m \u001b[1m3s\u001b[0m 30ms/step - accuracy: 0.3817 - loss: nan - val_accuracy: 0.4106 - val_loss: nan - learning_rate: 1.0000e-04\n",
            "Epoch 2/80\n",
            "\u001b[1m43/43\u001b[0m \u001b[32m━━━━━━━━━━━━━━━━━━━━\u001b[0m\u001b[37m\u001b[0m \u001b[1m1s\u001b[0m 22ms/step - accuracy: 0.3878 - loss: nan - val_accuracy: 0.4106 - val_loss: nan - learning_rate: 1.0000e-04\n",
            "Epoch 3/80\n",
            "\u001b[1m43/43\u001b[0m \u001b[32m━━━━━━━━━━━━━━━━━━━━\u001b[0m\u001b[37m\u001b[0m \u001b[1m1s\u001b[0m 21ms/step - accuracy: 0.3878 - loss: nan - val_accuracy: 0.4106 - val_loss: nan - learning_rate: 1.0000e-04\n",
            "Epoch 4/80\n",
            "\u001b[1m43/43\u001b[0m \u001b[32m━━━━━━━━━━━━━━━━━━━━\u001b[0m\u001b[37m\u001b[0m \u001b[1m2s\u001b[0m 35ms/step - accuracy: 0.3878 - loss: nan - val_accuracy: 0.4106 - val_loss: nan - learning_rate: 1.0000e-04\n",
            "Epoch 5/80\n",
            "\u001b[1m43/43\u001b[0m \u001b[32m━━━━━━━━━━━━━━━━━━━━\u001b[0m\u001b[37m\u001b[0m \u001b[1m1s\u001b[0m 33ms/step - accuracy: 0.3878 - loss: nan - val_accuracy: 0.4106 - val_loss: nan - learning_rate: 5.0000e-05\n",
            "Epoch 6/80\n",
            "\u001b[1m43/43\u001b[0m \u001b[32m━━━━━━━━━━━━━━━━━━━━\u001b[0m\u001b[37m\u001b[0m \u001b[1m1s\u001b[0m 21ms/step - accuracy: 0.3878 - loss: nan - val_accuracy: 0.4106 - val_loss: nan - learning_rate: 5.0000e-05\n",
            "Epoch 7/80\n",
            "\u001b[1m43/43\u001b[0m \u001b[32m━━━━━━━━━━━━━━━━━━━━\u001b[0m\u001b[37m\u001b[0m \u001b[1m1s\u001b[0m 22ms/step - accuracy: 0.3878 - loss: nan - val_accuracy: 0.4106 - val_loss: nan - learning_rate: 5.0000e-05\n",
            "Epoch 8/80\n",
            "\u001b[1m43/43\u001b[0m \u001b[32m━━━━━━━━━━━━━━━━━━━━\u001b[0m\u001b[37m\u001b[0m \u001b[1m1s\u001b[0m 22ms/step - accuracy: 0.3878 - loss: nan - val_accuracy: 0.4106 - val_loss: nan - learning_rate: 5.0000e-05\n",
            "Epoch 9/80\n",
            "\u001b[1m43/43\u001b[0m \u001b[32m━━━━━━━━━━━━━━━━━━━━\u001b[0m\u001b[37m\u001b[0m \u001b[1m1s\u001b[0m 22ms/step - accuracy: 0.3878 - loss: nan - val_accuracy: 0.4106 - val_loss: nan - learning_rate: 2.5000e-05\n",
            "\n",
            "FINAL TEST | loss=nan, acc=0.4301\n",
            "\n",
            "TEST classification report\n",
            "               precision    recall  f1-score   support\n",
            "\n",
            "          -1      0.430     1.000     0.602        80\n",
            "           0      0.000     0.000     0.000        26\n",
            "           1      0.000     0.000     0.000        80\n",
            "\n",
            "    accuracy                          0.430       186\n",
            "   macro avg      0.143     0.333     0.201       186\n",
            "weighted avg      0.185     0.430     0.259       186\n",
            "\n",
            "TEST confusion matrix\n",
            " [[80  0  0]\n",
            " [26  0  0]\n",
            " [80  0  0]]\n"
          ]
        },
        {
          "output_type": "stream",
          "name": "stderr",
          "text": [
            "/usr/local/lib/python3.12/dist-packages/sklearn/metrics/_classification.py:1565: UndefinedMetricWarning: Precision is ill-defined and being set to 0.0 in labels with no predicted samples. Use `zero_division` parameter to control this behavior.\n",
            "  _warn_prf(average, modifier, f\"{metric.capitalize()} is\", len(result))\n",
            "/usr/local/lib/python3.12/dist-packages/sklearn/metrics/_classification.py:1565: UndefinedMetricWarning: Precision is ill-defined and being set to 0.0 in labels with no predicted samples. Use `zero_division` parameter to control this behavior.\n",
            "  _warn_prf(average, modifier, f\"{metric.capitalize()} is\", len(result))\n",
            "/usr/local/lib/python3.12/dist-packages/sklearn/metrics/_classification.py:1565: UndefinedMetricWarning: Precision is ill-defined and being set to 0.0 in labels with no predicted samples. Use `zero_division` parameter to control this behavior.\n",
            "  _warn_prf(average, modifier, f\"{metric.capitalize()} is\", len(result))\n"
          ]
        }
      ]
    }
  ]
}