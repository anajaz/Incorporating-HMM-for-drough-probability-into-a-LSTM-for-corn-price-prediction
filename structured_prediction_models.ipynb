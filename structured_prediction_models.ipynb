{
  "nbformat": 4,
  "nbformat_minor": 0,
  "metadata": {
    "colab": {
      "provenance": []
    },
    "kernelspec": {
      "name": "python3",
      "display_name": "Python 3"
    },
    "language_info": {
      "name": "python"
    }
  },
  "cells": [
    {
      "cell_type": "code",
      "execution_count": null,
      "metadata": {
        "id": "se93PG85SjlL"
      },
      "outputs": [],
      "source": []
    },
    {
      "cell_type": "markdown",
      "source": [
        "#This notebook builds different modesl for predicting wheat prices\n",
        "\n",
        "The models are always a simple logistic regression and a LSTM, but the inputs change:\n",
        "1.   Only price data\n",
        "2.   Price and prcp data\n",
        "3.   Price and SPI data\n",
        "4.   Price, SPI and HMM data\n",
        "\n"
      ],
      "metadata": {
        "id": "670hjM7QSuS1"
      }
    },
    {
      "cell_type": "markdown",
      "source": [
        "##1. Only price data"
      ],
      "metadata": {
        "id": "FRI21pwSTG7u"
      }
    },
    {
      "cell_type": "markdown",
      "source": [
        "###1.1 Logistic regression"
      ],
      "metadata": {
        "id": "mfGVp98XTL-f"
      }
    },
    {
      "cell_type": "code",
      "source": [
        "import numpy as np\n",
        "import pandas as pd\n",
        "from sklearn.model_selection import train_test_split\n",
        "from sklearn.linear_model import LogisticRegression\n",
        "from sklearn.metrics import classification_report, accuracy_score, confusion_matrix"
      ],
      "metadata": {
        "id": "TvGu8TsGTEIO"
      },
      "execution_count": null,
      "outputs": []
    },
    {
      "cell_type": "code",
      "source": [
        "# ========================\n",
        "# Example synthetic dataset\n",
        "# ========================\n",
        "np.random.seed(42)\n",
        "n = 200\n",
        "\n",
        "# Two features\n",
        "X = np.random.randn(n, 2)\n",
        "\n",
        "# Binary target: 1 if x0 + x1 > 0, else 0\n",
        "y = (X[:, 0] + X[:, 1] > 0).astype(int)\n",
        "\n",
        "# ========================\n",
        "# Train/test split\n",
        "# ========================\n",
        "X_train, X_test, y_train, y_test = train_test_split(\n",
        "    X, y, test_size=0.3, random_state=42\n",
        ")\n",
        "\n",
        "# ========================\n",
        "# Fit logistic regression\n",
        "# ========================\n",
        "logreg = LogisticRegression(max_iter=1000)\n",
        "logreg.fit(X_train, y_train)\n",
        "\n",
        "# ========================\n",
        "# Evaluate\n",
        "# ========================\n",
        "y_pred = logreg.predict(X_test)\n",
        "\n",
        "print(\"Accuracy:\", accuracy_score(y_test, y_pred))\n",
        "print(\"Confusion matrix:\\n\", confusion_matrix(y_test, y_pred))\n",
        "print(\"\\nClassification report:\\n\", classification_report(y_test, y_pred))\n"
      ],
      "metadata": {
        "id": "hiPBYXclhpkL"
      },
      "execution_count": null,
      "outputs": []
    }
  ]
}